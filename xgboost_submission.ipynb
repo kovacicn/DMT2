{
 "cells": [
  {
   "cell_type": "markdown",
   "id": "eed41816",
   "metadata": {},
   "source": [
    "# XGBoost Ranker: Generate Kaggle Submission"
   ]
  },
  {
   "cell_type": "code",
   "execution_count": 1,
   "id": "4aa3b569",
   "metadata": {},
   "outputs": [],
   "source": [
    "import pandas as pd\n",
    "import xgboost as xgb\n"
   ]
  },
  {
   "cell_type": "markdown",
   "id": "d5a492ec",
   "metadata": {},
   "source": [
    "## Step 1: Load your test set"
   ]
  },
  {
   "cell_type": "code",
   "execution_count": 3,
   "id": "00c27286",
   "metadata": {},
   "outputs": [
    {
     "name": "stdout",
     "output_type": "stream",
     "text": [
      "Test features loaded: (4959183, 69)\n"
     ]
    }
   ],
   "source": [
    "# Ensure this file matches the feature set used for training (same columns, no labels)\n",
    "test_imputed = pd.read_csv(\"/Users/nikak/Desktop/vubaby/DMT/data_DMT/test_imputed_CSV.csv\")\n",
    "feats = pd.read_csv(\"/Users/nikak/Desktop/vubaby/DMT/data_DMT/nika_test_feats_with_cf.csv\")\n",
    "\n",
    "drop_cols = ['click_bool', 'booking_bool', 'date_time', 'position', 'gross_bookings_usd']\n",
    "\n",
    "test_feats_merged = test_imputed.merge(feats, on=['srch_id', 'prop_id', 'srch_destination_id'], how='left') \n",
    "test_features = test_feats_merged.drop(columns=drop_cols + ['srch_id', 'prop_id'], errors='ignore')\n",
    "print(\"Test features loaded:\", test_features.shape)\n"
   ]
  },
  {
   "cell_type": "code",
   "execution_count": 2,
   "id": "c9e11c2d",
   "metadata": {},
   "outputs": [
    {
     "name": "stdout",
     "output_type": "stream",
     "text": [
      "Train features loaded: (4958347, 69)\n"
     ]
    }
   ],
   "source": [
    "train_imputed = pd.read_csv(\"/Users/nikak/Desktop/vubaby/DMT/data_DMT/train_imputed_CSV.csv\")\n",
    "train_feats = pd.read_csv(\"/Users/nikak/Desktop/vubaby/DMT/data_DMT/nika_train_feats_with_cf.csv\")\n",
    "\n",
    "drop_cols = ['click_bool', 'booking_bool', 'date_time', 'position', 'gross_bookings_usd']\n",
    "train_feats_merged = train_imputed.merge(train_feats, on=['srch_id', 'prop_id', 'srch_destination_id'], how='left')\n",
    "train_features = train_feats_merged.drop(columns=drop_cols + ['srch_id', 'prop_id'], errors='ignore')\n",
    "print(\"Train features loaded:\", train_features.shape)\n",
    "\n",
    "\n"
   ]
  },
  {
   "cell_type": "code",
   "execution_count": 4,
   "id": "c5b81e9a",
   "metadata": {},
   "outputs": [
    {
     "name": "stdout",
     "output_type": "stream",
     "text": [
      "\n",
      "In test but NOT in train: set()\n",
      "In train but NOT in test: set()\n"
     ]
    }
   ],
   "source": [
    "train_cols = set(train_features.columns)\n",
    "test_cols = set(test_features.columns)\n",
    "\n",
    "print(\"\\nIn test but NOT in train:\", test_cols - train_cols)\n",
    "print(\"In train but NOT in test:\", train_cols - test_cols)\n"
   ]
  },
  {
   "cell_type": "markdown",
   "id": "d5564881",
   "metadata": {},
   "source": [
    "## Step 2: Load the trained XGBoost model"
   ]
  },
  {
   "cell_type": "code",
   "execution_count": 5,
   "id": "5e6dca15",
   "metadata": {},
   "outputs": [
    {
     "name": "stdout",
     "output_type": "stream",
     "text": [
      "Model loaded successfully.\n"
     ]
    }
   ],
   "source": [
    "model = xgb.Booster()\n",
    "model.load_model(\"xgboost_model_final.json\")\n",
    "print(\"Model loaded successfully.\")\n"
   ]
  },
  {
   "cell_type": "markdown",
   "id": "483f249c",
   "metadata": {},
   "source": [
    "## Step 3: Predict relevance scores for each hotel"
   ]
  },
  {
   "cell_type": "code",
   "execution_count": 6,
   "id": "133780e8",
   "metadata": {},
   "outputs": [
    {
     "ename": "ValueError",
     "evalue": "feature_names mismatch: ['srch_id', 'site_id', 'visitor_location_country_id', 'visitor_hist_starrating', 'visitor_hist_adr_usd', 'prop_country_id', 'prop_id', 'prop_starrating', 'prop_review_score', 'prop_brand_bool', 'prop_location_score1', 'prop_location_score2', 'prop_log_historical_price', 'price_usd', 'promotion_flag', 'srch_destination_id', 'srch_length_of_stay', 'srch_booking_window', 'srch_adults_count', 'srch_children_count', 'srch_room_count', 'srch_saturday_night_bool', 'srch_query_affinity_score', 'orig_destination_distance', 'random_bool', 'comp1_rate', 'comp1_inv', 'comp1_rate_percent_diff', 'comp2_rate', 'comp2_inv', 'comp2_rate_percent_diff', 'comp3_rate', 'comp3_inv', 'comp3_rate_percent_diff', 'comp4_rate', 'comp4_inv', 'comp4_rate_percent_diff', 'comp5_rate', 'comp5_inv', 'comp5_rate_percent_diff', 'comp6_rate', 'comp6_inv', 'comp6_rate_percent_diff', 'comp7_rate', 'comp7_inv', 'comp7_rate_percent_diff', 'comp8_rate', 'comp8_inv', 'comp8_rate_percent_diff', 'visitor_hist_starrating_missing', 'visitor_hist_adr_usd_missing', 'prop_review_score_missing', 'orig_destination_distance_missing', 'prop_location_score2_missing', 'srch_query_affinity_score_missing', 'price_rank', 'star_rank_pct', 'value_score', 'price_rel_search_rank', 'star_diff_search', 'review_diff_search', 'residual_price', 'prop_popularity', 'dest_popularity', 'location_score_gap', 'location_score2_gap', 'cheap_and_good', 'search_size', 'price_per_night', 'price_per_night_rel', 'cf_score'] ['site_id', 'visitor_location_country_id', 'visitor_hist_starrating', 'visitor_hist_adr_usd', 'prop_country_id', 'prop_starrating', 'prop_review_score', 'prop_brand_bool', 'prop_location_score1', 'prop_location_score2', 'prop_log_historical_price', 'price_usd', 'promotion_flag', 'srch_destination_id', 'srch_length_of_stay', 'srch_booking_window', 'srch_adults_count', 'srch_children_count', 'srch_room_count', 'srch_saturday_night_bool', 'srch_query_affinity_score', 'orig_destination_distance', 'random_bool', 'comp1_rate', 'comp1_inv', 'comp1_rate_percent_diff', 'comp2_rate', 'comp2_inv', 'comp2_rate_percent_diff', 'comp3_rate', 'comp3_inv', 'comp3_rate_percent_diff', 'comp4_rate', 'comp4_inv', 'comp4_rate_percent_diff', 'comp5_rate', 'comp5_inv', 'comp5_rate_percent_diff', 'comp6_rate', 'comp6_inv', 'comp6_rate_percent_diff', 'comp7_rate', 'comp7_inv', 'comp7_rate_percent_diff', 'comp8_rate', 'comp8_inv', 'comp8_rate_percent_diff', 'visitor_hist_starrating_missing', 'visitor_hist_adr_usd_missing', 'prop_review_score_missing', 'orig_destination_distance_missing', 'prop_location_score2_missing', 'srch_query_affinity_score_missing', 'price_rank', 'star_rank_pct', 'value_score', 'price_rel_search_rank', 'star_diff_search', 'review_diff_search', 'residual_price', 'location_score_gap', 'location_score2_gap', 'cheap_and_good', 'search_size', 'price_per_night', 'price_per_night_rel', 'prop_popularity', 'dest_popularity', 'cf_score']\nexpected prop_id, srch_id in input data",
     "output_type": "error",
     "traceback": [
      "\u001b[31m---------------------------------------------------------------------------\u001b[39m",
      "\u001b[31mValueError\u001b[39m                                Traceback (most recent call last)",
      "\u001b[36mCell\u001b[39m\u001b[36m \u001b[39m\u001b[32mIn[6]\u001b[39m\u001b[32m, line 2\u001b[39m\n\u001b[32m      1\u001b[39m dtest = xgb.DMatrix(test_features)\n\u001b[32m----> \u001b[39m\u001b[32m2\u001b[39m test_features[\u001b[33m'\u001b[39m\u001b[33mpred_score\u001b[39m\u001b[33m'\u001b[39m] = \u001b[43mmodel\u001b[49m\u001b[43m.\u001b[49m\u001b[43mpredict\u001b[49m\u001b[43m(\u001b[49m\u001b[43mdtest\u001b[49m\u001b[43m)\u001b[49m\n\u001b[32m      4\u001b[39m \u001b[38;5;28mprint\u001b[39m(\u001b[33m\"\u001b[39m\u001b[33mPredictions completed.\u001b[39m\u001b[33m\"\u001b[39m)\n",
      "\u001b[36mFile \u001b[39m\u001b[32mc:\\Users\\nikak\\AppData\\Local\\Programs\\Python\\Python311\\Lib\\site-packages\\xgboost\\core.py:729\u001b[39m, in \u001b[36mrequire_keyword_args.<locals>.throw_if.<locals>.inner_f\u001b[39m\u001b[34m(*args, **kwargs)\u001b[39m\n\u001b[32m    727\u001b[39m \u001b[38;5;28;01mfor\u001b[39;00m k, arg \u001b[38;5;129;01min\u001b[39;00m \u001b[38;5;28mzip\u001b[39m(sig.parameters, args):\n\u001b[32m    728\u001b[39m     kwargs[k] = arg\n\u001b[32m--> \u001b[39m\u001b[32m729\u001b[39m \u001b[38;5;28;01mreturn\u001b[39;00m \u001b[43mfunc\u001b[49m\u001b[43m(\u001b[49m\u001b[43m*\u001b[49m\u001b[43m*\u001b[49m\u001b[43mkwargs\u001b[49m\u001b[43m)\u001b[49m\n",
      "\u001b[36mFile \u001b[39m\u001b[32mc:\\Users\\nikak\\AppData\\Local\\Programs\\Python\\Python311\\Lib\\site-packages\\xgboost\\core.py:2502\u001b[39m, in \u001b[36mBooster.predict\u001b[39m\u001b[34m(self, data, output_margin, pred_leaf, pred_contribs, approx_contribs, pred_interactions, validate_features, training, iteration_range, strict_shape)\u001b[39m\n\u001b[32m   2500\u001b[39m \u001b[38;5;28;01mif\u001b[39;00m validate_features:\n\u001b[32m   2501\u001b[39m     fn = data.feature_names\n\u001b[32m-> \u001b[39m\u001b[32m2502\u001b[39m     \u001b[38;5;28;43mself\u001b[39;49m\u001b[43m.\u001b[49m\u001b[43m_validate_features\u001b[49m\u001b[43m(\u001b[49m\u001b[43mfn\u001b[49m\u001b[43m)\u001b[49m\n\u001b[32m   2503\u001b[39m args = {\n\u001b[32m   2504\u001b[39m     \u001b[33m\"\u001b[39m\u001b[33mtype\u001b[39m\u001b[33m\"\u001b[39m: \u001b[32m0\u001b[39m,\n\u001b[32m   2505\u001b[39m     \u001b[33m\"\u001b[39m\u001b[33mtraining\u001b[39m\u001b[33m\"\u001b[39m: training,\n\u001b[32m   (...)\u001b[39m\u001b[32m   2508\u001b[39m     \u001b[33m\"\u001b[39m\u001b[33mstrict_shape\u001b[39m\u001b[33m\"\u001b[39m: strict_shape,\n\u001b[32m   2509\u001b[39m }\n\u001b[32m   2511\u001b[39m \u001b[38;5;28;01mdef\u001b[39;00m\u001b[38;5;250m \u001b[39m\u001b[34massign_type\u001b[39m(t: \u001b[38;5;28mint\u001b[39m) -> \u001b[38;5;28;01mNone\u001b[39;00m:\n",
      "\u001b[36mFile \u001b[39m\u001b[32mc:\\Users\\nikak\\AppData\\Local\\Programs\\Python\\Python311\\Lib\\site-packages\\xgboost\\core.py:3243\u001b[39m, in \u001b[36mBooster._validate_features\u001b[39m\u001b[34m(self, feature_names)\u001b[39m\n\u001b[32m   3237\u001b[39m \u001b[38;5;28;01mif\u001b[39;00m my_missing:\n\u001b[32m   3238\u001b[39m     msg += (\n\u001b[32m   3239\u001b[39m         \u001b[33m\"\u001b[39m\u001b[38;5;130;01m\\n\u001b[39;00m\u001b[33mtraining data did not have the following fields: \u001b[39m\u001b[33m\"\u001b[39m\n\u001b[32m   3240\u001b[39m         + \u001b[33m\"\u001b[39m\u001b[33m, \u001b[39m\u001b[33m\"\u001b[39m.join(\u001b[38;5;28mstr\u001b[39m(s) \u001b[38;5;28;01mfor\u001b[39;00m s \u001b[38;5;129;01min\u001b[39;00m my_missing)\n\u001b[32m   3241\u001b[39m     )\n\u001b[32m-> \u001b[39m\u001b[32m3243\u001b[39m \u001b[38;5;28;01mraise\u001b[39;00m \u001b[38;5;167;01mValueError\u001b[39;00m(msg.format(\u001b[38;5;28mself\u001b[39m.feature_names, feature_names))\n",
      "\u001b[31mValueError\u001b[39m: feature_names mismatch: ['srch_id', 'site_id', 'visitor_location_country_id', 'visitor_hist_starrating', 'visitor_hist_adr_usd', 'prop_country_id', 'prop_id', 'prop_starrating', 'prop_review_score', 'prop_brand_bool', 'prop_location_score1', 'prop_location_score2', 'prop_log_historical_price', 'price_usd', 'promotion_flag', 'srch_destination_id', 'srch_length_of_stay', 'srch_booking_window', 'srch_adults_count', 'srch_children_count', 'srch_room_count', 'srch_saturday_night_bool', 'srch_query_affinity_score', 'orig_destination_distance', 'random_bool', 'comp1_rate', 'comp1_inv', 'comp1_rate_percent_diff', 'comp2_rate', 'comp2_inv', 'comp2_rate_percent_diff', 'comp3_rate', 'comp3_inv', 'comp3_rate_percent_diff', 'comp4_rate', 'comp4_inv', 'comp4_rate_percent_diff', 'comp5_rate', 'comp5_inv', 'comp5_rate_percent_diff', 'comp6_rate', 'comp6_inv', 'comp6_rate_percent_diff', 'comp7_rate', 'comp7_inv', 'comp7_rate_percent_diff', 'comp8_rate', 'comp8_inv', 'comp8_rate_percent_diff', 'visitor_hist_starrating_missing', 'visitor_hist_adr_usd_missing', 'prop_review_score_missing', 'orig_destination_distance_missing', 'prop_location_score2_missing', 'srch_query_affinity_score_missing', 'price_rank', 'star_rank_pct', 'value_score', 'price_rel_search_rank', 'star_diff_search', 'review_diff_search', 'residual_price', 'prop_popularity', 'dest_popularity', 'location_score_gap', 'location_score2_gap', 'cheap_and_good', 'search_size', 'price_per_night', 'price_per_night_rel', 'cf_score'] ['site_id', 'visitor_location_country_id', 'visitor_hist_starrating', 'visitor_hist_adr_usd', 'prop_country_id', 'prop_starrating', 'prop_review_score', 'prop_brand_bool', 'prop_location_score1', 'prop_location_score2', 'prop_log_historical_price', 'price_usd', 'promotion_flag', 'srch_destination_id', 'srch_length_of_stay', 'srch_booking_window', 'srch_adults_count', 'srch_children_count', 'srch_room_count', 'srch_saturday_night_bool', 'srch_query_affinity_score', 'orig_destination_distance', 'random_bool', 'comp1_rate', 'comp1_inv', 'comp1_rate_percent_diff', 'comp2_rate', 'comp2_inv', 'comp2_rate_percent_diff', 'comp3_rate', 'comp3_inv', 'comp3_rate_percent_diff', 'comp4_rate', 'comp4_inv', 'comp4_rate_percent_diff', 'comp5_rate', 'comp5_inv', 'comp5_rate_percent_diff', 'comp6_rate', 'comp6_inv', 'comp6_rate_percent_diff', 'comp7_rate', 'comp7_inv', 'comp7_rate_percent_diff', 'comp8_rate', 'comp8_inv', 'comp8_rate_percent_diff', 'visitor_hist_starrating_missing', 'visitor_hist_adr_usd_missing', 'prop_review_score_missing', 'orig_destination_distance_missing', 'prop_location_score2_missing', 'srch_query_affinity_score_missing', 'price_rank', 'star_rank_pct', 'value_score', 'price_rel_search_rank', 'star_diff_search', 'review_diff_search', 'residual_price', 'location_score_gap', 'location_score2_gap', 'cheap_and_good', 'search_size', 'price_per_night', 'price_per_night_rel', 'prop_popularity', 'dest_popularity', 'cf_score']\nexpected prop_id, srch_id in input data"
     ]
    }
   ],
   "source": [
    "dtest = xgb.DMatrix(test_features)\n",
    "test_features['pred_score'] = model.predict(dtest)\n",
    "\n",
    "print(\"Predictions completed.\")\n"
   ]
  },
  {
   "cell_type": "markdown",
   "id": "d0ae5552",
   "metadata": {},
   "source": [
    "## Step 4: Sort predictions and generate Kaggle submission"
   ]
  },
  {
   "cell_type": "code",
   "execution_count": null,
   "id": "a38a07af",
   "metadata": {},
   "outputs": [],
   "source": [
    "submission = test[['srch_id', 'prop_id', 'pred_score']]\n",
    "submission_sorted = submission.sort_values(by=['srch_id', 'pred_score'], ascending=[True, False])\n",
    "submission_final = submission_sorted[['srch_id', 'prop_id']]\n",
    "\n",
    "submission_final.to_csv(\"assignment_2/results/xgboost_submission.csv\", index=False)\n",
    "print(\"✅ Submission file saved to 'assignment_2/results/xgboost_submission.csv'\")\n"
   ]
  }
 ],
 "metadata": {
  "kernelspec": {
   "display_name": "Python 3",
   "language": "python",
   "name": "python3"
  },
  "language_info": {
   "codemirror_mode": {
    "name": "ipython",
    "version": 3
   },
   "file_extension": ".py",
   "mimetype": "text/x-python",
   "name": "python",
   "nbconvert_exporter": "python",
   "pygments_lexer": "ipython3",
   "version": "3.11.9"
  }
 },
 "nbformat": 4,
 "nbformat_minor": 5
}
