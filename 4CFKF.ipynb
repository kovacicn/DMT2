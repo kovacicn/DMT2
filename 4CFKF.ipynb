{
 "cells": [
  {
   "cell_type": "markdown",
   "id": "a27b8301",
   "metadata": {},
   "source": [
    "**Collaborative Failtering x Knowledge-Based Model**"
   ]
  },
  {
   "cell_type": "markdown",
   "id": "277b8613",
   "metadata": {},
   "source": [
    "CF\n",
    "- past user-item interactions (bookings, clicks) to infer preferences\n",
    "- based on similarities between users (user-user CF) or items (item-item CF)\n",
    "\n",
    "KBF\n",
    "- uses explicit domain knowledge or content features of items(hotels) to decide on recommendations"
   ]
  },
  {
   "cell_type": "markdown",
   "id": "88a6d607",
   "metadata": {},
   "source": [
    "Goal:\n",
    "\n",
    "I need to have a subission file that ranks hotels belonging to a user search on the likeliness that the property will be booked"
   ]
  },
  {
   "cell_type": "code",
   "execution_count": null,
   "id": "d86cb6d7",
   "metadata": {},
   "outputs": [],
   "source": [
    "###### DESTINATION-SPECIFIC HOTEL POPULARITY ######\n",
    "\n",
    "\"\"\"\"Based on a destination, hotels that are frequantly clicked or booked in that destination are probbably relevant for future user search in that destination.\"\"\"\n",
    "\n",
    "def compute_destination_popularity(df):\n",
    "    \"\"\"\n",
    "    Computes normalized popularity score for each hotel within a destination.\n",
    "    Uses weighted booking and click signals.\n",
    "    \"\"\"\n",
    "    pop_df = df.groupby(['srch_destination_id', 'prop_id'])[['booking_bool', 'click_bool']].sum().reset_index()\n",
    "\n",
    "    # Weighted score: bookings more important than clicks\n",
    "    pop_df['cf_score'] = 5 * pop_df['booking_bool'] + 1 * pop_df['click_bool']\n",
    "\n",
    "    # Normalize within each destination (0 to 1)\n",
    "    pop_df['cf_score'] = pop_df.groupby('srch_destination_id')['cf_score'].transform(\n",
    "        lambda x: x / (x.max() + 1e-6)\n",
    "    )\n",
    "\n",
    "    return pop_df[['srch_destination_id', 'prop_id', 'cf_score']]\n",
    "\n",
    "\n",
    "# def add_destination_popularity_score(df):\n",
    "#     \"\"\"\n",
    "#     Adds destination-specific popularity CF score to the dataset.\n",
    "#     \"\"\"\n",
    "#     popularity = compute_destination_popularity(df)\n",
    "#     df = df.merge(popularity, on=['srch_destination_id', 'prop_id'], how='left')\n",
    "#     df['cf_score'] = df['cf_score'].fillna(0)  # unseen hotels get score 0\n",
    "#     return df\n",
    "\n"
   ]
  },
  {
   "cell_type": "code",
   "execution_count": null,
   "id": "aeaaf8c8",
   "metadata": {},
   "outputs": [],
   "source": [
    "import pandas as pd\n",
    "# Step 1: Load full original training data (5M rows)\n",
    "df_raw = pd.read_csv(\"/Users/nikak/Desktop/vubaby/DMT/data_DMT/training_set_VU_DM.csv\")\n",
    "\n",
    "# Step 2: Compute CF scores on full data\n",
    "popularity_scores = compute_destination_popularity(df_raw)\n",
    "\n",
    "# Step 3: Merge into your feature-engineered dataset\n",
    "df_feats = pd.read_csv(\"nika_candidate_feats.csv\")  # or however you generate it\n",
    "df_feats = df_feats.merge(popularity_scores, on=['srch_destination_id', 'prop_id'], how='left')\n",
    "df_feats['cf_score'] = df_feats['cf_score'].fillna(0)\n",
    "\n",
    "df_feats.to_csv(\"/Users/nikak/Desktop/vubaby/DMT/data_DMT/features_with_cf_score.csv\", index=False)\n"
   ]
  }
 ],
 "metadata": {
  "kernelspec": {
   "display_name": ".venv",
   "language": "python",
   "name": "python3"
  },
  "language_info": {
   "codemirror_mode": {
    "name": "ipython",
    "version": 3
   },
   "file_extension": ".py",
   "mimetype": "text/x-python",
   "name": "python",
   "nbconvert_exporter": "python",
   "pygments_lexer": "ipython3",
   "version": "3.11.9"
  }
 },
 "nbformat": 4,
 "nbformat_minor": 5
}
