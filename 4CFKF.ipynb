{
 "cells": [
  {
   "cell_type": "markdown",
   "id": "a27b8301",
   "metadata": {},
   "source": [
    "**Collaborative Failtering x Knowledge-Based Model**"
   ]
  },
  {
   "cell_type": "markdown",
   "id": "277b8613",
   "metadata": {},
   "source": [
    "CF\n",
    "- past user-item interactions (bookings, clicks) to infer preferences\n",
    "- based on similarities between users (user-user CF) or items (item-item CF)\n",
    "\n",
    "KBF\n",
    "- uses explicit domain knowledge or content features of items(hotels) to decide on recommendations"
   ]
  },
  {
   "cell_type": "markdown",
   "id": "88a6d607",
   "metadata": {},
   "source": [
    "Goal:\n",
    "\n",
    "I need to have a subission file that ranks hotels belonging to a user search on the likeliness that the property will be booked"
   ]
  },
  {
   "cell_type": "code",
   "execution_count": null,
   "id": "d86cb6d7",
   "metadata": {},
   "outputs": [],
   "source": [
    "###### DESTINATION-SPECIFIC HOTEL POPULARITY ######\n",
    "\n",
    "\"\"\"\"Based on a destination, hotels that are frequantly clicked or booked in that destination are probbably relevant for future user search in that destination.\"\"\"\n",
    "\n",
    "def compute_destination_popularity(df):\n",
    "    \"\"\"\n",
    "    Computes normalized popularity score for each hotel within a destination.\n",
    "    Uses weighted booking and click signals.\n",
    "    \"\"\"\n",
    "    pop_df = df.groupby(['srch_destination_id', 'prop_id'])[['booking_bool', 'click_bool']].sum().reset_index()\n",
    "\n",
    "    # Weighted score: bookings more important than clicks\n",
    "    pop_df['cf_score'] = 5 * pop_df['booking_bool'] + 1 * pop_df['click_bool']\n",
    "\n",
    "    # Normalize within each destination (0 to 1)\n",
    "    pop_df['cf_score'] = pop_df.groupby('srch_destination_id')['cf_score'].transform(\n",
    "        lambda x: x / (x.max() + 1e-6)\n",
    "    )\n",
    "\n",
    "    return pop_df[['srch_destination_id', 'prop_id', 'cf_score']]\n",
    "\n"
   ]
  },
  {
   "cell_type": "code",
   "execution_count": null,
   "id": "aeaaf8c8",
   "metadata": {},
   "outputs": [],
   "source": [
    "import pandas as pd\n",
    "# Step 1: Load full original training data (5M rows)\n",
    "df_raw = pd.read_csv(\"/Users/nikak/Desktop/vubaby/DMT/data_DMT/training_set_VU_DM.csv\")\n",
    "\n",
    "# Step 2: Compute CF scores on full data\n",
    "popularity_scores = compute_destination_popularity(df_raw)\n",
    "\n",
    "# Step 3: Merge into your feature-engineered dataset\n",
    "df_feats = pd.read_csv(\"/Users/nikak/Desktop/vubaby/DMT/data_DMT/nika_candidate_feats.csv\")  # or however you generate it\n",
    "df_feats = df_feats.merge(popularity_scores, on=['srch_destination_id', 'prop_id'], how='left')\n",
    "df_feats['cf_score'] = df_feats['cf_score'].fillna(0)\n",
    "\n",
    "\n",
    "df_feats.to_csv(\"/Users/nikak/Desktop/vubaby/DMT/data_DMT/features_with_cf_score.csv\", index=False)\n"
   ]
  },
  {
   "cell_type": "code",
   "execution_count": 18,
   "id": "8209ab7a",
   "metadata": {},
   "outputs": [
    {
     "name": "stdout",
     "output_type": "stream",
     "text": [
      "Index(['srch_id', 'prop_id', 'srch_destination_id', 'price_rank',\n",
      "       'star_rank_pct', 'value_score', 'price_rel_search_rank',\n",
      "       'star_diff_search', 'review_diff_search', 'residual_price',\n",
      "       'prop_popularity', 'dest_popularity', 'location_score_gap',\n",
      "       'location_score2_gap', 'cheap_and_good', 'search_size',\n",
      "       'price_per_night', 'price_per_night_rel', 'cf_score'],\n",
      "      dtype='object')\n"
     ]
    }
   ],
   "source": [
    "import pandas as pd\n",
    "df_feats = pd.read_csv(\"/Users/nikak/Desktop/vubaby/DMT/data_DMT/features_with_cf_score.csv\")\n",
    "print(df_feats.columns)"
   ]
  },
  {
   "cell_type": "code",
   "execution_count": null,
   "id": "186faaf8",
   "metadata": {},
   "outputs": [
    {
     "name": "stdout",
     "output_type": "stream",
     "text": [
      "(4959183, 16)\n",
      "(4958347, 18)\n"
     ]
    }
   ],
   "source": [
    "# od tud sam krenula ovo gore ne znam jos\n",
    "test_feats = pd.read_csv(\"/Users/nikak/Desktop/vubaby/DMT/data_DMT/nika_candidate_feats_test.csv\")\n",
    "train_feats = pd.read_csv(\"/Users/nikak/Desktop/vubaby/DMT/data_DMT/nika_candidate_feats.csv\")\n",
    "print(test_feats.shape)\n",
    "print(train_feats.shape)"
   ]
  },
  {
   "cell_type": "code",
   "execution_count": 10,
   "id": "c236bc5b",
   "metadata": {},
   "outputs": [
    {
     "name": "stdout",
     "output_type": "stream",
     "text": [
      "\n",
      "In test but NOT in train: set()\n",
      "In train but NOT in test: {'dest_popularity', 'prop_popularity'}\n"
     ]
    }
   ],
   "source": [
    "train_cols = set(train_feats.columns)\n",
    "test_cols = set(test_feats.columns)\n",
    "\n",
    "print(\"\\nIn test but NOT in train:\", test_cols - train_cols)\n",
    "print(\"In train but NOT in test:\", train_cols - test_cols)"
   ]
  },
  {
   "cell_type": "code",
   "execution_count": 21,
   "id": "e3ecb211",
   "metadata": {},
   "outputs": [],
   "source": [
    "df_train = pd.read_csv(\"/Users/nikak/Desktop/vubaby/DMT/data_DMT/train_imputed_CSV.csv\")\n",
    "# Compute popularity stats from the training set\n",
    "\n",
    "prop_stats = df_train.groupby('prop_id')['booking_bool'].agg(['sum', 'count']).rename(columns={'sum': 'bookings', 'count': 'imps'})\n",
    "dest_stats = df_train.groupby('srch_destination_id')['booking_bool'].agg(['sum', 'count']).rename(columns={'sum': 'bookings', 'count': 'imps'})\n",
    "\n",
    "# Global booking rate for smoothing\n",
    "global_booking_rate = df_train['booking_bool'].mean()\n",
    "\n",
    "# Apply smoothing\n",
    "smoothing_prop = 10\n",
    "smoothing_dest = 20\n",
    "\n",
    "prop_stats['prop_popularity'] = (prop_stats['bookings'] + smoothing_prop * global_booking_rate) / (prop_stats['imps'] + smoothing_prop)\n",
    "dest_stats['dest_popularity'] = (dest_stats['bookings'] + smoothing_dest * global_booking_rate) / (dest_stats['imps'] + smoothing_dest)\n",
    "\n",
    "# Create lookup dictionaries\n",
    "prop_pop_dict = prop_stats['prop_popularity'].to_dict()\n",
    "dest_pop_dict = dest_stats['dest_popularity'].to_dict()\n"
   ]
  },
  {
   "cell_type": "code",
   "execution_count": 20,
   "id": "ee6edf96",
   "metadata": {},
   "outputs": [
    {
     "name": "stderr",
     "output_type": "stream",
     "text": [
      "C:\\Users\\nikak\\AppData\\Local\\Temp\\ipykernel_28756\\2165746600.py:5: FutureWarning: A value is trying to be set on a copy of a DataFrame or Series through chained assignment using an inplace method.\n",
      "The behavior will change in pandas 3.0. This inplace method will never work because the intermediate object on which we are setting values always behaves as a copy.\n",
      "\n",
      "For example, when doing 'df[col].method(value, inplace=True)', try using 'df.method({col: value}, inplace=True)' or df[col] = df[col].method(value) instead, to perform the operation inplace on the original object.\n",
      "\n",
      "\n",
      "  df_test['prop_popularity'].fillna(global_booking_rate, inplace=True)\n",
      "C:\\Users\\nikak\\AppData\\Local\\Temp\\ipykernel_28756\\2165746600.py:6: FutureWarning: A value is trying to be set on a copy of a DataFrame or Series through chained assignment using an inplace method.\n",
      "The behavior will change in pandas 3.0. This inplace method will never work because the intermediate object on which we are setting values always behaves as a copy.\n",
      "\n",
      "For example, when doing 'df[col].method(value, inplace=True)', try using 'df.method({col: value}, inplace=True)' or df[col] = df[col].method(value) instead, to perform the operation inplace on the original object.\n",
      "\n",
      "\n",
      "  df_test['dest_popularity'].fillna(global_booking_rate, inplace=True)\n"
     ]
    }
   ],
   "source": [
    "df_test = pd.read_csv(\"/Users/nikak/Desktop/vubaby/DMT/data_DMT/nika_candidate_feats_test.csv\")\n",
    "# Step 2: Map popularity scores\n",
    "df_test['prop_popularity'] = df_test['prop_id'].map(prop_pop_dict)\n",
    "df_test['dest_popularity'] = df_test['srch_destination_id'].map(dest_pop_dict)\n",
    "df_test['prop_popularity'].fillna(global_booking_rate, inplace=True)\n",
    "df_test['dest_popularity'].fillna(global_booking_rate, inplace=True)"
   ]
  },
  {
   "cell_type": "code",
   "execution_count": 23,
   "id": "01caa1cd",
   "metadata": {},
   "outputs": [
    {
     "name": "stdout",
     "output_type": "stream",
     "text": [
      "Saved updated test feature file with popularity columns.\n"
     ]
    }
   ],
   "source": [
    "df_test.to_csv(\"/Users/nikak/Desktop/vubaby/DMT/data_DMT/nika_candidate_feats_test_with_pop.csv\", index=False)\n",
    "\n",
    "print(\"Saved updated test feature file with popularity columns.\")"
   ]
  },
  {
   "cell_type": "markdown",
   "id": "795c2b93",
   "metadata": {},
   "source": [
    "**--> OKAY NOW I HAVE nika_candidate_feats.csv AND nika_candidsate_feats_test_with_pop.csv absolutely the same**"
   ]
  },
  {
   "cell_type": "code",
   "execution_count": 22,
   "id": "39767507",
   "metadata": {},
   "outputs": [
    {
     "name": "stdout",
     "output_type": "stream",
     "text": [
      "(4959183, 18)\n",
      "(4958347, 18)\n",
      "\n",
      "In test but NOT in train: set()\n",
      "In train but NOT in test: set()\n"
     ]
    }
   ],
   "source": [
    "print(df_test.shape)\n",
    "print(train_feats.shape)\n",
    "\n",
    "train_cols = set(train_feats.columns)\n",
    "test_cols = set(df_test.columns)\n",
    "\n",
    "print(\"\\nIn test but NOT in train:\", test_cols - train_cols)\n",
    "print(\"In train but NOT in test:\", train_cols - test_cols)"
   ]
  },
  {
   "cell_type": "code",
   "execution_count": 27,
   "id": "17e60e28",
   "metadata": {},
   "outputs": [],
   "source": [
    "cf_scores = compute_destination_popularity(df_train)"
   ]
  },
  {
   "cell_type": "code",
   "execution_count": 28,
   "id": "4c62498a",
   "metadata": {},
   "outputs": [],
   "source": [
    "train_cf = train_feats.merge(cf_scores, on=['srch_destination_id', 'prop_id'], how='left')\n",
    "test_cf = df_test.merge(cf_scores, on=['srch_destination_id', 'prop_id'], how='left')"
   ]
  },
  {
   "cell_type": "code",
   "execution_count": 34,
   "id": "4dad3dc0",
   "metadata": {},
   "outputs": [
    {
     "name": "stderr",
     "output_type": "stream",
     "text": [
      "C:\\Users\\nikak\\AppData\\Local\\Temp\\ipykernel_28756\\1467006053.py:2: FutureWarning: A value is trying to be set on a copy of a DataFrame or Series through chained assignment using an inplace method.\n",
      "The behavior will change in pandas 3.0. This inplace method will never work because the intermediate object on which we are setting values always behaves as a copy.\n",
      "\n",
      "For example, when doing 'df[col].method(value, inplace=True)', try using 'df.method({col: value}, inplace=True)' or df[col] = df[col].method(value) instead, to perform the operation inplace on the original object.\n",
      "\n",
      "\n",
      "  test_cf['cf_score'].fillna(0, inplace=True)\n"
     ]
    },
    {
     "name": "stdout",
     "output_type": "stream",
     "text": [
      "Saved:\n",
      "- nika_train_feats_with_cf.csv\n",
      "- nika_test_feats_with_cf.csv\n"
     ]
    }
   ],
   "source": [
    "# Fill missing cf_scores in test set (optional but recommended)\n",
    "test_cf['cf_score'].fillna(0, inplace=True)\n",
    "\n",
    "# Save to CSV\n",
    "train_cf.to_csv(\"/Users/nikak/Desktop/vubaby/DMT/data_DMT/nika_train_feats_with_cf.csv\", index=False)\n",
    "test_cf.to_csv(\"/Users/nikak/Desktop/vubaby/DMT/data_DMT/nika_test_feats_with_cf.csv\", index=False)\n",
    "\n",
    "print(\"Saved:\")\n",
    "print(\"- nika_train_feats_with_cf.csv\")\n",
    "print(\"- nika_test_feats_with_cf.csv\")"
   ]
  },
  {
   "cell_type": "code",
   "execution_count": 33,
   "id": "7605b6c1",
   "metadata": {},
   "outputs": [
    {
     "data": {
      "text/plain": [
       "Index(['srch_id', 'prop_id', 'srch_destination_id', 'price_rank',\n",
       "       'star_rank_pct', 'value_score', 'price_rel_search_rank',\n",
       "       'star_diff_search', 'review_diff_search', 'residual_price',\n",
       "       'prop_popularity', 'dest_popularity', 'location_score_gap',\n",
       "       'location_score2_gap', 'cheap_and_good', 'search_size',\n",
       "       'price_per_night', 'price_per_night_rel', 'cf_score'],\n",
       "      dtype='object')"
      ]
     },
     "execution_count": 33,
     "metadata": {},
     "output_type": "execute_result"
    }
   ],
   "source": [
    "train_cf.columns"
   ]
  },
  {
   "cell_type": "markdown",
   "id": "2a7deb9f",
   "metadata": {},
   "source": [
    "**This should create a final dataset for both test and train that is merged with OG data and the engineered features... lets see good luck**"
   ]
  },
  {
   "cell_type": "code",
   "execution_count": 35,
   "id": "aea848fa",
   "metadata": {},
   "outputs": [],
   "source": [
    "train_imputed = pd.read_csv(\"/Users/nikak/Desktop/vubaby/DMT/data_DMT/train_imputed_CSV.csv\")\n",
    "feats_train = pd.read_csv(\"/Users/nikak/Desktop/vubaby/DMT/data_DMT/nika_train_feats_with_cf.csv\")\n",
    "\n"
   ]
  }
 ],
 "metadata": {
  "kernelspec": {
   "display_name": "Python 3",
   "language": "python",
   "name": "python3"
  },
  "language_info": {
   "codemirror_mode": {
    "name": "ipython",
    "version": 3
   },
   "file_extension": ".py",
   "mimetype": "text/x-python",
   "name": "python",
   "nbconvert_exporter": "python",
   "pygments_lexer": "ipython3",
   "version": "3.11.9"
  }
 },
 "nbformat": 4,
 "nbformat_minor": 5
}
