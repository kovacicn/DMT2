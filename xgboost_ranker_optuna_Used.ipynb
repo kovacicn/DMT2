{
  "cells": [
    {
      "cell_type": "markdown",
      "id": "c89f715f",
      "metadata": {
        "id": "c89f715f"
      },
      "source": [
        "# XGBoost Ranker with Optuna Hyperparameter Tuning"
      ]
    },
    {
      "cell_type": "code",
      "execution_count": 3,
      "id": "f1580690",
      "metadata": {
        "id": "f1580690"
      },
      "outputs": [],
      "source": [
        "import pandas as pd\n",
        "import numpy as np\n",
        "import xgboost as xgb\n",
        "import optuna\n",
        "from sklearn.model_selection import train_test_split\n",
        "from sklearn.metrics import ndcg_score\n",
        "import warnings\n",
        "warnings.filterwarnings('ignore')\n"
      ]
    },
    {
      "cell_type": "code",
      "source": [
        "!pip install optuna\n",
        "!pip install xgboost"
      ],
      "metadata": {
        "colab": {
          "base_uri": "https://localhost:8080/"
        },
        "collapsed": true,
        "id": "30e_rWfaWPXw",
        "outputId": "443eda98-b800-4141-a97f-408d9fe91fcd"
      },
      "id": "30e_rWfaWPXw",
      "execution_count": 2,
      "outputs": [
        {
          "output_type": "stream",
          "name": "stdout",
          "text": [
            "Collecting optuna\n",
            "  Downloading optuna-4.3.0-py3-none-any.whl.metadata (17 kB)\n",
            "Collecting alembic>=1.5.0 (from optuna)\n",
            "  Downloading alembic-1.15.2-py3-none-any.whl.metadata (7.3 kB)\n",
            "Collecting colorlog (from optuna)\n",
            "  Downloading colorlog-6.9.0-py3-none-any.whl.metadata (10 kB)\n",
            "Requirement already satisfied: numpy in /usr/local/lib/python3.11/dist-packages (from optuna) (2.0.2)\n",
            "Requirement already satisfied: packaging>=20.0 in /usr/local/lib/python3.11/dist-packages (from optuna) (24.2)\n",
            "Requirement already satisfied: sqlalchemy>=1.4.2 in /usr/local/lib/python3.11/dist-packages (from optuna) (2.0.40)\n",
            "Requirement already satisfied: tqdm in /usr/local/lib/python3.11/dist-packages (from optuna) (4.67.1)\n",
            "Requirement already satisfied: PyYAML in /usr/local/lib/python3.11/dist-packages (from optuna) (6.0.2)\n",
            "Requirement already satisfied: Mako in /usr/lib/python3/dist-packages (from alembic>=1.5.0->optuna) (1.1.3)\n",
            "Requirement already satisfied: typing-extensions>=4.12 in /usr/local/lib/python3.11/dist-packages (from alembic>=1.5.0->optuna) (4.13.2)\n",
            "Requirement already satisfied: greenlet>=1 in /usr/local/lib/python3.11/dist-packages (from sqlalchemy>=1.4.2->optuna) (3.2.2)\n",
            "Downloading optuna-4.3.0-py3-none-any.whl (386 kB)\n",
            "\u001b[2K   \u001b[90m━━━━━━━━━━━━━━━━━━━━━━━━━━━━━━━━━━━━━━━━\u001b[0m \u001b[32m386.6/386.6 kB\u001b[0m \u001b[31m6.9 MB/s\u001b[0m eta \u001b[36m0:00:00\u001b[0m\n",
            "\u001b[?25hDownloading alembic-1.15.2-py3-none-any.whl (231 kB)\n",
            "\u001b[2K   \u001b[90m━━━━━━━━━━━━━━━━━━━━━━━━━━━━━━━━━━━━━━━━\u001b[0m \u001b[32m231.9/231.9 kB\u001b[0m \u001b[31m18.3 MB/s\u001b[0m eta \u001b[36m0:00:00\u001b[0m\n",
            "\u001b[?25hDownloading colorlog-6.9.0-py3-none-any.whl (11 kB)\n",
            "Installing collected packages: colorlog, alembic, optuna\n",
            "Successfully installed alembic-1.15.2 colorlog-6.9.0 optuna-4.3.0\n",
            "Requirement already satisfied: xgboost in /usr/local/lib/python3.11/dist-packages (2.1.4)\n",
            "Requirement already satisfied: numpy in /usr/local/lib/python3.11/dist-packages (from xgboost) (2.0.2)\n",
            "Requirement already satisfied: nvidia-nccl-cu12 in /usr/local/lib/python3.11/dist-packages (from xgboost) (2.21.5)\n",
            "Requirement already satisfied: scipy in /usr/local/lib/python3.11/dist-packages (from xgboost) (1.15.3)\n"
          ]
        }
      ]
    },
    {
      "cell_type": "code",
      "execution_count": 4,
      "id": "6868a532",
      "metadata": {
        "id": "6868a532"
      },
      "outputs": [],
      "source": [
        "# === File paths ===\n",
        "train_imputed = 'train_imputed_CSV.csv'            # TODO: replace with your training file\n",
        "feats_train = 'nika_train_feats_with_cf.csv'  # TODO: replace with your engineered‑features file\n"
      ]
    },
    {
      "cell_type": "code",
      "execution_count": 6,
      "id": "180414ea",
      "metadata": {
        "id": "180414ea"
      },
      "outputs": [],
      "source": [
        "df = pd.read_csv(train_imputed)  # full labeled data\n",
        "features = pd.read_csv(feats_train)  # your features\n",
        "\n",
        "df = df.merge(features, on=['srch_id', 'prop_id', 'srch_destination_id'], how='left')\n",
        "\n",
        "def label_func(row):\n",
        "    if row['booking_bool'] == 1:\n",
        "        return 5\n",
        "    elif row['click_bool'] == 1:\n",
        "        return 1\n",
        "    else:\n",
        "        return 0\n",
        "\n",
        "df['label'] = df.apply(label_func, axis=1)\n",
        "\n",
        "group_sizes = df.groupby('srch_id').size().to_list()\n",
        "\n",
        "drop_cols = ['click_bool', 'booking_bool', 'date_time', 'gross_bookings_usd', 'position']\n",
        "X = df.drop(columns=[*drop_cols, 'label'], errors='ignore')\n",
        "y = df['label']\n"
      ]
    },
    {
      "cell_type": "code",
      "execution_count": 7,
      "id": "e46fdad1",
      "metadata": {
        "id": "e46fdad1"
      },
      "outputs": [],
      "source": [
        "X_train, X_test, y_train, y_test = train_test_split(X, y, test_size=0.2, random_state=42)\n"
      ]
    },
    {
      "cell_type": "code",
      "execution_count": 9,
      "id": "4416777b",
      "metadata": {
        "colab": {
          "base_uri": "https://localhost:8080/"
        },
        "id": "4416777b",
        "outputId": "fd056901-cc71-4bf6-b223-b5a0a1663206"
      },
      "outputs": [
        {
          "output_type": "stream",
          "name": "stderr",
          "text": [
            "[I 2025-05-15 23:58:40,474] A new study created in memory with name: no-name-9be8ddf4-2883-4b03-b06c-183e7b5a3c4c\n",
            "[I 2025-05-15 23:58:42,181] Trial 0 finished with value: 0.1239684385644996 and parameters: {'eta': 0.1628147837821737, 'max_depth': 8, 'min_child_weight': 6, 'gamma': 4.792870619247334, 'subsample': 0.9799037348113369, 'colsample_bytree': 0.9497803654880639}. Best is trial 0 with value: 0.1239684385644996.\n",
            "[I 2025-05-15 23:58:47,453] Trial 1 finished with value: 0.17248657095396647 and parameters: {'eta': 0.10606831451991225, 'max_depth': 4, 'min_child_weight': 5, 'gamma': 2.5149498258314362, 'subsample': 0.8941212665403985, 'colsample_bytree': 0.6529411906198936}. Best is trial 1 with value: 0.17248657095396647.\n",
            "[I 2025-05-15 23:58:50,491] Trial 2 finished with value: 0.16295271314997598 and parameters: {'eta': 0.041926498103437904, 'max_depth': 8, 'min_child_weight': 7, 'gamma': 1.4414204573058853, 'subsample': 0.8900724252324879, 'colsample_bytree': 0.6618341283529696}. Best is trial 1 with value: 0.17248657095396647.\n",
            "[I 2025-05-15 23:58:52,710] Trial 3 finished with value: 0.1239684385644996 and parameters: {'eta': 0.1924842978172592, 'max_depth': 10, 'min_child_weight': 9, 'gamma': 2.890837826435466, 'subsample': 0.6801756245853232, 'colsample_bytree': 0.8005788482000991}. Best is trial 1 with value: 0.17248657095396647.\n",
            "[I 2025-05-15 23:58:54,519] Trial 4 finished with value: 0.21205479277270187 and parameters: {'eta': 0.0586853609135873, 'max_depth': 9, 'min_child_weight': 1, 'gamma': 2.7523295393371887, 'subsample': 0.8375397471821413, 'colsample_bytree': 0.7503026863791118}. Best is trial 4 with value: 0.21205479277270187.\n",
            "[I 2025-05-15 23:59:01,727] Trial 5 finished with value: 0.20071929252627327 and parameters: {'eta': 0.04402796099822131, 'max_depth': 9, 'min_child_weight': 2, 'gamma': 2.9047979494807734, 'subsample': 0.5038685887844094, 'colsample_bytree': 0.5941308342747091}. Best is trial 4 with value: 0.21205479277270187.\n",
            "[I 2025-05-15 23:59:05,259] Trial 6 finished with value: 0.20129874249108445 and parameters: {'eta': 0.10567498323737717, 'max_depth': 3, 'min_child_weight': 6, 'gamma': 1.5619019575415587, 'subsample': 0.8401981769013702, 'colsample_bytree': 0.8586407749165081}. Best is trial 4 with value: 0.21205479277270187.\n",
            "[I 2025-05-15 23:59:06,711] Trial 7 finished with value: 0.1239684385644996 and parameters: {'eta': 0.19266044092819226, 'max_depth': 3, 'min_child_weight': 8, 'gamma': 0.5097058061416654, 'subsample': 0.576203826766388, 'colsample_bytree': 0.9141295851921885}. Best is trial 4 with value: 0.21205479277270187.\n",
            "[I 2025-05-15 23:59:08,061] Trial 8 finished with value: 0.1239684385644996 and parameters: {'eta': 0.03187424999705169, 'max_depth': 8, 'min_child_weight': 9, 'gamma': 4.418471325355244, 'subsample': 0.7518329874748989, 'colsample_bytree': 0.6012767545290356}. Best is trial 4 with value: 0.21205479277270187.\n",
            "[I 2025-05-15 23:59:14,326] Trial 9 finished with value: 0.18448006106194562 and parameters: {'eta': 0.14876589590915107, 'max_depth': 6, 'min_child_weight': 1, 'gamma': 1.4188661864174568, 'subsample': 0.732320451228474, 'colsample_bytree': 0.9569197471059383}. Best is trial 4 with value: 0.21205479277270187.\n",
            "[I 2025-05-15 23:59:16,188] Trial 10 finished with value: 0.1239684385644996 and parameters: {'eta': 0.29084258600683077, 'max_depth': 6, 'min_child_weight': 3, 'gamma': 3.7429393057087914, 'subsample': 0.99305221651336, 'colsample_bytree': 0.7454254439548428}. Best is trial 4 with value: 0.21205479277270187.\n",
            "[I 2025-05-15 23:59:18,667] Trial 11 finished with value: 0.19281745709825915 and parameters: {'eta': 0.09375275198625851, 'max_depth': 5, 'min_child_weight': 4, 'gamma': 1.1374951276691663, 'subsample': 0.825005315131457, 'colsample_bytree': 0.8252237060090019}. Best is trial 4 with value: 0.21205479277270187.\n",
            "[I 2025-05-15 23:59:21,630] Trial 12 finished with value: 0.19796333026843768 and parameters: {'eta': 0.10169337415193463, 'max_depth': 3, 'min_child_weight': 5, 'gamma': 1.9639261902843341, 'subsample': 0.8208169926378741, 'colsample_bytree': 0.8513550294870875}. Best is trial 4 with value: 0.21205479277270187.\n",
            "[I 2025-05-15 23:59:23,916] Trial 13 finished with value: 0.20123375750730524 and parameters: {'eta': 0.07980885470494797, 'max_depth': 10, 'min_child_weight': 1, 'gamma': 0.14360508673354033, 'subsample': 0.8665219364065972, 'colsample_bytree': 0.7300939256113231}. Best is trial 4 with value: 0.21205479277270187.\n",
            "[I 2025-05-15 23:59:25,025] Trial 14 finished with value: 0.1239684385644996 and parameters: {'eta': 0.011092169244361967, 'max_depth': 7, 'min_child_weight': 7, 'gamma': 3.6763971114505427, 'subsample': 0.743165188174091, 'colsample_bytree': 0.5006930365820831}. Best is trial 4 with value: 0.21205479277270187.\n",
            "[I 2025-05-15 23:59:29,757] Trial 15 finished with value: 0.19078240118302198 and parameters: {'eta': 0.14176544098579902, 'max_depth': 5, 'min_child_weight': 3, 'gamma': 2.080523465788162, 'subsample': 0.6496545519651808, 'colsample_bytree': 0.8789671899903996}. Best is trial 4 with value: 0.21205479277270187.\n",
            "[I 2025-05-15 23:59:30,864] Trial 16 finished with value: 0.1239684385644996 and parameters: {'eta': 0.2642317729308524, 'max_depth': 7, 'min_child_weight': 10, 'gamma': 3.6956159608577135, 'subsample': 0.9316695695816485, 'colsample_bytree': 0.7828270921480094}. Best is trial 4 with value: 0.21205479277270187.\n",
            "[I 2025-05-15 23:59:32,587] Trial 17 finished with value: 0.19864978319272222 and parameters: {'eta': 0.06639058308579135, 'max_depth': 9, 'min_child_weight': 6, 'gamma': 0.7885741368692233, 'subsample': 0.8293288041505038, 'colsample_bytree': 0.7191610399214169}. Best is trial 4 with value: 0.21205479277270187.\n",
            "[I 2025-05-15 23:59:36,290] Trial 18 finished with value: 0.1817677271762134 and parameters: {'eta': 0.12609221129588538, 'max_depth': 4, 'min_child_weight': 4, 'gamma': 1.9471966766720343, 'subsample': 0.7943204563344777, 'colsample_bytree': 0.9947123082771118}. Best is trial 4 with value: 0.21205479277270187.\n",
            "[I 2025-05-15 23:59:38,076] Trial 19 finished with value: 0.20703195454105816 and parameters: {'eta': 0.18758624129679136, 'max_depth': 9, 'min_child_weight': 3, 'gamma': 2.7491172011752347, 'subsample': 0.9361389655316675, 'colsample_bytree': 0.8723651739063978}. Best is trial 4 with value: 0.21205479277270187.\n",
            "[I 2025-05-15 23:59:41,618] Trial 20 finished with value: 0.1239684385644996 and parameters: {'eta': 0.22016567853648827, 'max_depth': 9, 'min_child_weight': 2, 'gamma': 3.0567931456919, 'subsample': 0.9392627582640687, 'colsample_bytree': 0.6852142698985574}. Best is trial 4 with value: 0.21205479277270187.\n",
            "[I 2025-05-15 23:59:43,305] Trial 21 finished with value: 0.19420999758014545 and parameters: {'eta': 0.1777453346344302, 'max_depth': 10, 'min_child_weight': 2, 'gamma': 2.5050490189597325, 'subsample': 0.9067499695633827, 'colsample_bytree': 0.8816920044821005}. Best is trial 4 with value: 0.21205479277270187.\n",
            "[I 2025-05-15 23:59:44,426] Trial 22 finished with value: 0.1239684385644996 and parameters: {'eta': 0.2318565025832709, 'max_depth': 9, 'min_child_weight': 4, 'gamma': 3.2629198768355794, 'subsample': 0.8618236380468371, 'colsample_bytree': 0.7812785414853463}. Best is trial 4 with value: 0.21205479277270187.\n",
            "[I 2025-05-15 23:59:46,754] Trial 23 finished with value: 0.2067391291236865 and parameters: {'eta': 0.12748134537051872, 'max_depth': 7, 'min_child_weight': 1, 'gamma': 2.2081789580383204, 'subsample': 0.7932359936082369, 'colsample_bytree': 0.8435898622888816}. Best is trial 4 with value: 0.21205479277270187.\n",
            "[I 2025-05-15 23:59:49,944] Trial 24 finished with value: 0.20737875662285152 and parameters: {'eta': 0.2209550980262006, 'max_depth': 8, 'min_child_weight': 1, 'gamma': 2.230393445215959, 'subsample': 0.7751784764237126, 'colsample_bytree': 0.826397743821756}. Best is trial 4 with value: 0.21205479277270187.\n",
            "[I 2025-05-15 23:59:51,398] Trial 25 finished with value: 0.1239684385644996 and parameters: {'eta': 0.22329360877010998, 'max_depth': 8, 'min_child_weight': 3, 'gamma': 3.3574803658090033, 'subsample': 0.6760719687390929, 'colsample_bytree': 0.9156353468910781}. Best is trial 4 with value: 0.21205479277270187.\n",
            "[I 2025-05-15 23:59:56,169] Trial 26 finished with value: 0.20445848454047635 and parameters: {'eta': 0.24991333899864349, 'max_depth': 9, 'min_child_weight': 2, 'gamma': 2.574641600353208, 'subsample': 0.9530347705941776, 'colsample_bytree': 0.804622552945142}. Best is trial 4 with value: 0.21205479277270187.\n",
            "[I 2025-05-15 23:59:57,524] Trial 27 finished with value: 0.1239684385644996 and parameters: {'eta': 0.20154333112935618, 'max_depth': 8, 'min_child_weight': 1, 'gamma': 4.1476813055086, 'subsample': 0.7622891108969617, 'colsample_bytree': 0.7661984393171708}. Best is trial 4 with value: 0.21205479277270187.\n",
            "[I 2025-05-15 23:59:59,820] Trial 28 finished with value: 0.2024259888609424 and parameters: {'eta': 0.2806217752402968, 'max_depth': 10, 'min_child_weight': 3, 'gamma': 1.7461939432328557, 'subsample': 0.7000633113553014, 'colsample_bytree': 0.7047783583101644}. Best is trial 4 with value: 0.21205479277270187.\n",
            "[I 2025-05-16 00:00:02,093] Trial 29 finished with value: 0.20400478929954105 and parameters: {'eta': 0.1600245673462075, 'max_depth': 8, 'min_child_weight': 2, 'gamma': 2.737107581089794, 'subsample': 0.9633552609657923, 'colsample_bytree': 0.9050069910980222}. Best is trial 4 with value: 0.21205479277270187.\n"
          ]
        }
      ],
      "source": [
        "def objective(trial):\n",
        "    params = {\n",
        "        \"objective\": \"rank:pairwise\",\n",
        "        \"eval_metric\": \"ndcg\",\n",
        "        \"tree_method\": \"hist\",\n",
        "        \"booster\": \"gbtree\",\n",
        "        \"eta\": trial.suggest_float(\"eta\", 0.01, 0.3),\n",
        "        \"max_depth\": trial.suggest_int(\"max_depth\", 3, 10),\n",
        "        \"min_child_weight\": trial.suggest_int(\"min_child_weight\", 1, 10),\n",
        "        \"gamma\": trial.suggest_float(\"gamma\", 0, 5),\n",
        "        \"subsample\": trial.suggest_float(\"subsample\", 0.5, 1.0),\n",
        "        \"colsample_bytree\": trial.suggest_float(\"colsample_bytree\", 0.5, 1.0)\n",
        "    }\n",
        "\n",
        "    dtrain = xgb.DMatrix(X_train, label=y_train)\n",
        "    dtest = xgb.DMatrix(X_test, label=y_test)\n",
        "\n",
        "    model = xgb.train(params, dtrain, num_boost_round=300, evals=[(dtest, \"test\")], early_stopping_rounds=50, verbose_eval=False)\n",
        "\n",
        "    srch_ids_test = X_test['srch_id']\n",
        "    group_test = srch_ids_test.value_counts().sort_index().to_list()\n",
        "    split_preds = np.split(model.predict(dtest), np.cumsum(group_test)[:-1])\n",
        "    split_true = np.split(y_test.to_numpy(), np.cumsum(group_test)[:-1])\n",
        "    ndcgs = [ndcg_score([yt], [yp], k=5) for yt, yp in zip(split_true, split_preds) if len(yt) >= 5]\n",
        "    return np.mean(ndcgs)\n",
        "\n",
        "study = optuna.create_study(direction=\"maximize\")\n",
        "study.optimize(objective, n_trials=30)\n"
      ]
    },
    {
      "cell_type": "code",
      "execution_count": 10,
      "id": "9d5f914f",
      "metadata": {
        "colab": {
          "base_uri": "https://localhost:8080/"
        },
        "id": "9d5f914f",
        "outputId": "12b34d68-83a1-49e1-c05a-9477fd9a2633"
      },
      "outputs": [
        {
          "output_type": "stream",
          "name": "stdout",
          "text": [
            "[0]\ttest-ndcg:0.11172\n",
            "[1]\ttest-ndcg:0.22037\n",
            "[2]\ttest-ndcg:0.02509\n",
            "[3]\ttest-ndcg:0.02509\n",
            "[4]\ttest-ndcg:0.02509\n",
            "[5]\ttest-ndcg:0.02509\n",
            "[6]\ttest-ndcg:0.02509\n",
            "[7]\ttest-ndcg:0.02509\n",
            "[8]\ttest-ndcg:0.02747\n",
            "[9]\ttest-ndcg:0.05453\n",
            "[10]\ttest-ndcg:0.14970\n",
            "[11]\ttest-ndcg:0.06208\n",
            "[12]\ttest-ndcg:0.10230\n",
            "[13]\ttest-ndcg:0.10909\n",
            "[14]\ttest-ndcg:0.19451\n",
            "[15]\ttest-ndcg:0.19451\n",
            "[16]\ttest-ndcg:0.19451\n",
            "[17]\ttest-ndcg:0.19451\n",
            "[18]\ttest-ndcg:0.19451\n",
            "[19]\ttest-ndcg:0.19628\n",
            "[20]\ttest-ndcg:0.19628\n",
            "[21]\ttest-ndcg:0.19628\n",
            "[22]\ttest-ndcg:0.19628\n",
            "[23]\ttest-ndcg:0.19628\n",
            "[24]\ttest-ndcg:0.19628\n",
            "[25]\ttest-ndcg:0.19628\n",
            "[26]\ttest-ndcg:0.19628\n",
            "[27]\ttest-ndcg:0.19628\n",
            "[28]\ttest-ndcg:0.19628\n",
            "[29]\ttest-ndcg:0.19628\n",
            "[30]\ttest-ndcg:0.19628\n",
            "Final model trained with best parameters from Optuna.\n"
          ]
        }
      ],
      "source": [
        "best_params = study.best_params\n",
        "best_params.update({\n",
        "    \"objective\": \"rank:pairwise\",\n",
        "    \"eval_metric\": \"ndcg\",\n",
        "    \"tree_method\": \"hist\",\n",
        "    \"booster\": \"gbtree\"\n",
        "})\n",
        "\n",
        "dtrain_final = xgb.DMatrix(X_train, label=y_train)\n",
        "dtest_final = xgb.DMatrix(X_test, label=y_test)\n",
        "\n",
        "model = xgb.train(best_params, dtrain_final, num_boost_round=300, evals=[(dtest_final, \"test\")], early_stopping_rounds=30)\n",
        "\n",
        "print(\"Final model trained with best parameters from Optuna.\")\n"
      ]
    },
    {
      "cell_type": "code",
      "execution_count": 11,
      "id": "2be6f83d",
      "metadata": {
        "colab": {
          "base_uri": "https://localhost:8080/"
        },
        "id": "2be6f83d",
        "outputId": "6097d308-cf70-4ce4-91b2-aeff8beb233b"
      },
      "outputs": [
        {
          "output_type": "stream",
          "name": "stdout",
          "text": [
            "Model saved to 'xgboost_ranker_model_final.json'\n"
          ]
        }
      ],
      "source": [
        "model.save_model(\"xgboost_ranker_model_final.json\")\n",
        "print(\"Model saved to 'xgboost_ranker_model_final.json'\")\n"
      ]
    }
  ],
  "metadata": {
    "kernelspec": {
      "display_name": ".venv",
      "language": "python",
      "name": "python3"
    },
    "language_info": {
      "codemirror_mode": {
        "name": "ipython",
        "version": 3
      },
      "file_extension": ".py",
      "mimetype": "text/x-python",
      "name": "python",
      "nbconvert_exporter": "python",
      "pygments_lexer": "ipython3",
      "version": "3.11.9"
    },
    "colab": {
      "provenance": []
    }
  },
  "nbformat": 4,
  "nbformat_minor": 5
}