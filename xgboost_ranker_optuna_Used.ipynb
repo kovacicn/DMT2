{
  "cells": [
    {
      "cell_type": "markdown",
      "id": "c89f715f",
      "metadata": {
        "id": "c89f715f"
      },
      "source": [
        "# XGBoost Ranker with Optuna Hyperparameter Tuning"
      ]
    },
    {
      "cell_type": "code",
      "execution_count": 8,
      "id": "f1580690",
      "metadata": {
        "id": "f1580690"
      },
      "outputs": [
        {
          "ename": "ModuleNotFoundError",
          "evalue": "No module named 'optuna'",
          "output_type": "error",
          "traceback": [
            "\u001b[31m---------------------------------------------------------------------------\u001b[39m",
            "\u001b[31mModuleNotFoundError\u001b[39m                       Traceback (most recent call last)",
            "\u001b[36mCell\u001b[39m\u001b[36m \u001b[39m\u001b[32mIn[8]\u001b[39m\u001b[32m, line 4\u001b[39m\n\u001b[32m      2\u001b[39m \u001b[38;5;28;01mimport\u001b[39;00m\u001b[38;5;250m \u001b[39m\u001b[34;01mnumpy\u001b[39;00m\u001b[38;5;250m \u001b[39m\u001b[38;5;28;01mas\u001b[39;00m\u001b[38;5;250m \u001b[39m\u001b[34;01mnp\u001b[39;00m\n\u001b[32m      3\u001b[39m \u001b[38;5;28;01mimport\u001b[39;00m\u001b[38;5;250m \u001b[39m\u001b[34;01mxgboost\u001b[39;00m\u001b[38;5;250m \u001b[39m\u001b[38;5;28;01mas\u001b[39;00m\u001b[38;5;250m \u001b[39m\u001b[34;01mxgb\u001b[39;00m\n\u001b[32m----> \u001b[39m\u001b[32m4\u001b[39m \u001b[38;5;28;01mimport\u001b[39;00m\u001b[38;5;250m \u001b[39m\u001b[34;01moptuna\u001b[39;00m\n\u001b[32m      5\u001b[39m \u001b[38;5;28;01mfrom\u001b[39;00m\u001b[38;5;250m \u001b[39m\u001b[34;01msklearn\u001b[39;00m\u001b[34;01m.\u001b[39;00m\u001b[34;01mmodel_selection\u001b[39;00m\u001b[38;5;250m \u001b[39m\u001b[38;5;28;01mimport\u001b[39;00m train_test_split\n\u001b[32m      6\u001b[39m \u001b[38;5;28;01mfrom\u001b[39;00m\u001b[38;5;250m \u001b[39m\u001b[34;01msklearn\u001b[39;00m\u001b[34;01m.\u001b[39;00m\u001b[34;01mmetrics\u001b[39;00m\u001b[38;5;250m \u001b[39m\u001b[38;5;28;01mimport\u001b[39;00m ndcg_score\n",
            "\u001b[31mModuleNotFoundError\u001b[39m: No module named 'optuna'"
          ]
        }
      ],
      "source": [
        "import pandas as pd\n",
        "import numpy as np\n",
        "import xgboost as xgb\n",
        "import optuna\n",
        "from sklearn.model_selection import train_test_split\n",
        "from sklearn.metrics import ndcg_score\n",
        "import warnings\n",
        "warnings.filterwarnings('ignore')\n"
      ]
    },
    {
      "cell_type": "code",
      "execution_count": 5,
      "id": "30e_rWfaWPXw",
      "metadata": {
        "colab": {
          "base_uri": "https://localhost:8080/"
        },
        "collapsed": true,
        "id": "30e_rWfaWPXw",
        "outputId": "443eda98-b800-4141-a97f-408d9fe91fcd"
      },
      "outputs": [
        {
          "name": "stdout",
          "output_type": "stream",
          "text": [
            "Requirement already satisfied: optuna in c:\\users\\nikak\\appdata\\local\\packages\\pythonsoftwarefoundation.python.3.10_qbz5n2kfra8p0\\localcache\\local-packages\\python310\\site-packages (4.3.0)\n",
            "Requirement already satisfied: alembic>=1.5.0 in c:\\users\\nikak\\appdata\\local\\packages\\pythonsoftwarefoundation.python.3.10_qbz5n2kfra8p0\\localcache\\local-packages\\python310\\site-packages (from optuna) (1.15.2)\n",
            "Requirement already satisfied: colorlog in c:\\users\\nikak\\appdata\\local\\packages\\pythonsoftwarefoundation.python.3.10_qbz5n2kfra8p0\\localcache\\local-packages\\python310\\site-packages (from optuna) (6.9.0)\n",
            "Requirement already satisfied: numpy in c:\\users\\nikak\\appdata\\local\\packages\\pythonsoftwarefoundation.python.3.10_qbz5n2kfra8p0\\localcache\\local-packages\\python310\\site-packages (from optuna) (1.26.4)\n",
            "Requirement already satisfied: packaging>=20.0 in c:\\users\\nikak\\appdata\\local\\packages\\pythonsoftwarefoundation.python.3.10_qbz5n2kfra8p0\\localcache\\local-packages\\python310\\site-packages (from optuna) (24.1)\n",
            "Requirement already satisfied: sqlalchemy>=1.4.2 in c:\\users\\nikak\\appdata\\local\\packages\\pythonsoftwarefoundation.python.3.10_qbz5n2kfra8p0\\localcache\\local-packages\\python310\\site-packages (from optuna) (2.0.41)\n",
            "Requirement already satisfied: tqdm in c:\\users\\nikak\\appdata\\local\\packages\\pythonsoftwarefoundation.python.3.10_qbz5n2kfra8p0\\localcache\\local-packages\\python310\\site-packages (from optuna) (4.67.0)\n",
            "Requirement already satisfied: PyYAML in c:\\users\\nikak\\appdata\\local\\packages\\pythonsoftwarefoundation.python.3.10_qbz5n2kfra8p0\\localcache\\local-packages\\python310\\site-packages (from optuna) (6.0.2)\n",
            "Requirement already satisfied: Mako in c:\\users\\nikak\\appdata\\local\\packages\\pythonsoftwarefoundation.python.3.10_qbz5n2kfra8p0\\localcache\\local-packages\\python310\\site-packages (from alembic>=1.5.0->optuna) (1.3.10)\n",
            "Requirement already satisfied: typing-extensions>=4.12 in c:\\users\\nikak\\appdata\\local\\packages\\pythonsoftwarefoundation.python.3.10_qbz5n2kfra8p0\\localcache\\local-packages\\python310\\site-packages (from alembic>=1.5.0->optuna) (4.12.2)\n",
            "Requirement already satisfied: greenlet>=1 in c:\\users\\nikak\\appdata\\local\\packages\\pythonsoftwarefoundation.python.3.10_qbz5n2kfra8p0\\localcache\\local-packages\\python310\\site-packages (from sqlalchemy>=1.4.2->optuna) (3.2.2)\n",
            "Requirement already satisfied: colorama in c:\\users\\nikak\\appdata\\local\\packages\\pythonsoftwarefoundation.python.3.10_qbz5n2kfra8p0\\localcache\\local-packages\\python310\\site-packages (from colorlog->optuna) (0.4.6)\n",
            "Requirement already satisfied: MarkupSafe>=0.9.2 in c:\\users\\nikak\\appdata\\local\\packages\\pythonsoftwarefoundation.python.3.10_qbz5n2kfra8p0\\localcache\\local-packages\\python310\\site-packages (from Mako->alembic>=1.5.0->optuna) (3.0.2)\n"
          ]
        },
        {
          "name": "stderr",
          "output_type": "stream",
          "text": [
            "\n",
            "[notice] A new release of pip is available: 24.3.1 -> 25.1.1\n",
            "[notice] To update, run: C:\\Users\\nikak\\AppData\\Local\\Microsoft\\WindowsApps\\PythonSoftwareFoundation.Python.3.10_qbz5n2kfra8p0\\python.exe -m pip install --upgrade pip\n"
          ]
        },
        {
          "name": "stdout",
          "output_type": "stream",
          "text": [
            "Requirement already satisfied: xgboost in c:\\users\\nikak\\appdata\\local\\packages\\pythonsoftwarefoundation.python.3.10_qbz5n2kfra8p0\\localcache\\local-packages\\python310\\site-packages (3.0.0)\n",
            "Requirement already satisfied: numpy in c:\\users\\nikak\\appdata\\local\\packages\\pythonsoftwarefoundation.python.3.10_qbz5n2kfra8p0\\localcache\\local-packages\\python310\\site-packages (from xgboost) (1.26.4)\n",
            "Requirement already satisfied: scipy in c:\\users\\nikak\\appdata\\local\\packages\\pythonsoftwarefoundation.python.3.10_qbz5n2kfra8p0\\localcache\\local-packages\\python310\\site-packages (from xgboost) (1.13.1)\n"
          ]
        },
        {
          "name": "stderr",
          "output_type": "stream",
          "text": [
            "\n",
            "[notice] A new release of pip is available: 24.3.1 -> 25.1.1\n",
            "[notice] To update, run: C:\\Users\\nikak\\AppData\\Local\\Microsoft\\WindowsApps\\PythonSoftwareFoundation.Python.3.10_qbz5n2kfra8p0\\python.exe -m pip install --upgrade pip\n"
          ]
        }
      ],
      "source": [
        "!pip install optuna\n",
        "!pip install xgboost"
      ]
    },
    {
      "cell_type": "code",
      "execution_count": 10,
      "id": "6868a532",
      "metadata": {
        "id": "6868a532"
      },
      "outputs": [],
      "source": [
        "# === File paths ===\n",
        "train_imputed = '/Users/nikak/Desktop/vubaby/DMT/data_DMT/train_imputed_CSV.csv'            # TODO: replace with your training file\n",
        "feats_train = '/Users/nikak/Desktop/vubaby/DMT/data_DMT/nika_train_feats_with_cf.csv'  # TODO: replace with your engineered‑features file\n"
      ]
    },
    {
      "cell_type": "code",
      "execution_count": null,
      "id": "180414ea",
      "metadata": {
        "id": "180414ea"
      },
      "outputs": [
        {
          "ename": "MemoryError",
          "evalue": "Unable to allocate 1.26 GiB for an array with shape (34, 4958347) and data type float64",
          "output_type": "error",
          "traceback": [
            "\u001b[31m---------------------------------------------------------------------------\u001b[39m",
            "\u001b[31mMemoryError\u001b[39m                               Traceback (most recent call last)",
            "\u001b[36mCell\u001b[39m\u001b[36m \u001b[39m\u001b[32mIn[11]\u001b[39m\u001b[32m, line 1\u001b[39m\n\u001b[32m----> \u001b[39m\u001b[32m1\u001b[39m df = \u001b[43mpd\u001b[49m\u001b[43m.\u001b[49m\u001b[43mread_csv\u001b[49m\u001b[43m(\u001b[49m\u001b[43mtrain_imputed\u001b[49m\u001b[43m)\u001b[49m  \u001b[38;5;66;03m# full labeled data\u001b[39;00m\n\u001b[32m      2\u001b[39m features = pd.read_csv(feats_train)  \u001b[38;5;66;03m# your features\u001b[39;00m\n\u001b[32m      5\u001b[39m \u001b[38;5;66;03m# df = df.merge(features, on=['srch_id', 'prop_id', 'srch_destination_id'], how='left')\u001b[39;00m\n",
            "\u001b[36mFile \u001b[39m\u001b[32mc:\\Users\\nikak\\AppData\\Local\\Programs\\Python\\Python311\\Lib\\site-packages\\pandas\\io\\parsers\\readers.py:1026\u001b[39m, in \u001b[36mread_csv\u001b[39m\u001b[34m(filepath_or_buffer, sep, delimiter, header, names, index_col, usecols, dtype, engine, converters, true_values, false_values, skipinitialspace, skiprows, skipfooter, nrows, na_values, keep_default_na, na_filter, verbose, skip_blank_lines, parse_dates, infer_datetime_format, keep_date_col, date_parser, date_format, dayfirst, cache_dates, iterator, chunksize, compression, thousands, decimal, lineterminator, quotechar, quoting, doublequote, escapechar, comment, encoding, encoding_errors, dialect, on_bad_lines, delim_whitespace, low_memory, memory_map, float_precision, storage_options, dtype_backend)\u001b[39m\n\u001b[32m   1013\u001b[39m kwds_defaults = _refine_defaults_read(\n\u001b[32m   1014\u001b[39m     dialect,\n\u001b[32m   1015\u001b[39m     delimiter,\n\u001b[32m   (...)\u001b[39m\u001b[32m   1022\u001b[39m     dtype_backend=dtype_backend,\n\u001b[32m   1023\u001b[39m )\n\u001b[32m   1024\u001b[39m kwds.update(kwds_defaults)\n\u001b[32m-> \u001b[39m\u001b[32m1026\u001b[39m \u001b[38;5;28;01mreturn\u001b[39;00m \u001b[43m_read\u001b[49m\u001b[43m(\u001b[49m\u001b[43mfilepath_or_buffer\u001b[49m\u001b[43m,\u001b[49m\u001b[43m \u001b[49m\u001b[43mkwds\u001b[49m\u001b[43m)\u001b[49m\n",
            "\u001b[36mFile \u001b[39m\u001b[32mc:\\Users\\nikak\\AppData\\Local\\Programs\\Python\\Python311\\Lib\\site-packages\\pandas\\io\\parsers\\readers.py:626\u001b[39m, in \u001b[36m_read\u001b[39m\u001b[34m(filepath_or_buffer, kwds)\u001b[39m\n\u001b[32m    623\u001b[39m     \u001b[38;5;28;01mreturn\u001b[39;00m parser\n\u001b[32m    625\u001b[39m \u001b[38;5;28;01mwith\u001b[39;00m parser:\n\u001b[32m--> \u001b[39m\u001b[32m626\u001b[39m     \u001b[38;5;28;01mreturn\u001b[39;00m \u001b[43mparser\u001b[49m\u001b[43m.\u001b[49m\u001b[43mread\u001b[49m\u001b[43m(\u001b[49m\u001b[43mnrows\u001b[49m\u001b[43m)\u001b[49m\n",
            "\u001b[36mFile \u001b[39m\u001b[32mc:\\Users\\nikak\\AppData\\Local\\Programs\\Python\\Python311\\Lib\\site-packages\\pandas\\io\\parsers\\readers.py:1968\u001b[39m, in \u001b[36mTextFileReader.read\u001b[39m\u001b[34m(self, nrows)\u001b[39m\n\u001b[32m   1965\u001b[39m     \u001b[38;5;28;01melse\u001b[39;00m:\n\u001b[32m   1966\u001b[39m         new_col_dict = col_dict\n\u001b[32m-> \u001b[39m\u001b[32m1968\u001b[39m     df = \u001b[43mDataFrame\u001b[49m\u001b[43m(\u001b[49m\n\u001b[32m   1969\u001b[39m \u001b[43m        \u001b[49m\u001b[43mnew_col_dict\u001b[49m\u001b[43m,\u001b[49m\n\u001b[32m   1970\u001b[39m \u001b[43m        \u001b[49m\u001b[43mcolumns\u001b[49m\u001b[43m=\u001b[49m\u001b[43mcolumns\u001b[49m\u001b[43m,\u001b[49m\n\u001b[32m   1971\u001b[39m \u001b[43m        \u001b[49m\u001b[43mindex\u001b[49m\u001b[43m=\u001b[49m\u001b[43mindex\u001b[49m\u001b[43m,\u001b[49m\n\u001b[32m   1972\u001b[39m \u001b[43m        \u001b[49m\u001b[43mcopy\u001b[49m\u001b[43m=\u001b[49m\u001b[38;5;129;43;01mnot\u001b[39;49;00m\u001b[43m \u001b[49m\u001b[43musing_copy_on_write\u001b[49m\u001b[43m(\u001b[49m\u001b[43m)\u001b[49m\u001b[43m,\u001b[49m\n\u001b[32m   1973\u001b[39m \u001b[43m    \u001b[49m\u001b[43m)\u001b[49m\n\u001b[32m   1975\u001b[39m     \u001b[38;5;28mself\u001b[39m._currow += new_rows\n\u001b[32m   1976\u001b[39m \u001b[38;5;28;01mreturn\u001b[39;00m df\n",
            "\u001b[36mFile \u001b[39m\u001b[32mc:\\Users\\nikak\\AppData\\Local\\Programs\\Python\\Python311\\Lib\\site-packages\\pandas\\core\\frame.py:778\u001b[39m, in \u001b[36mDataFrame.__init__\u001b[39m\u001b[34m(self, data, index, columns, dtype, copy)\u001b[39m\n\u001b[32m    772\u001b[39m     mgr = \u001b[38;5;28mself\u001b[39m._init_mgr(\n\u001b[32m    773\u001b[39m         data, axes={\u001b[33m\"\u001b[39m\u001b[33mindex\u001b[39m\u001b[33m\"\u001b[39m: index, \u001b[33m\"\u001b[39m\u001b[33mcolumns\u001b[39m\u001b[33m\"\u001b[39m: columns}, dtype=dtype, copy=copy\n\u001b[32m    774\u001b[39m     )\n\u001b[32m    776\u001b[39m \u001b[38;5;28;01melif\u001b[39;00m \u001b[38;5;28misinstance\u001b[39m(data, \u001b[38;5;28mdict\u001b[39m):\n\u001b[32m    777\u001b[39m     \u001b[38;5;66;03m# GH#38939 de facto copy defaults to False only in non-dict cases\u001b[39;00m\n\u001b[32m--> \u001b[39m\u001b[32m778\u001b[39m     mgr = \u001b[43mdict_to_mgr\u001b[49m\u001b[43m(\u001b[49m\u001b[43mdata\u001b[49m\u001b[43m,\u001b[49m\u001b[43m \u001b[49m\u001b[43mindex\u001b[49m\u001b[43m,\u001b[49m\u001b[43m \u001b[49m\u001b[43mcolumns\u001b[49m\u001b[43m,\u001b[49m\u001b[43m \u001b[49m\u001b[43mdtype\u001b[49m\u001b[43m=\u001b[49m\u001b[43mdtype\u001b[49m\u001b[43m,\u001b[49m\u001b[43m \u001b[49m\u001b[43mcopy\u001b[49m\u001b[43m=\u001b[49m\u001b[43mcopy\u001b[49m\u001b[43m,\u001b[49m\u001b[43m \u001b[49m\u001b[43mtyp\u001b[49m\u001b[43m=\u001b[49m\u001b[43mmanager\u001b[49m\u001b[43m)\u001b[49m\n\u001b[32m    779\u001b[39m \u001b[38;5;28;01melif\u001b[39;00m \u001b[38;5;28misinstance\u001b[39m(data, ma.MaskedArray):\n\u001b[32m    780\u001b[39m     \u001b[38;5;28;01mfrom\u001b[39;00m\u001b[38;5;250m \u001b[39m\u001b[34;01mnumpy\u001b[39;00m\u001b[34;01m.\u001b[39;00m\u001b[34;01mma\u001b[39;00m\u001b[38;5;250m \u001b[39m\u001b[38;5;28;01mimport\u001b[39;00m mrecords\n",
            "\u001b[36mFile \u001b[39m\u001b[32mc:\\Users\\nikak\\AppData\\Local\\Programs\\Python\\Python311\\Lib\\site-packages\\pandas\\core\\internals\\construction.py:503\u001b[39m, in \u001b[36mdict_to_mgr\u001b[39m\u001b[34m(data, index, columns, dtype, typ, copy)\u001b[39m\n\u001b[32m    499\u001b[39m     \u001b[38;5;28;01melse\u001b[39;00m:\n\u001b[32m    500\u001b[39m         \u001b[38;5;66;03m# dtype check to exclude e.g. range objects, scalars\u001b[39;00m\n\u001b[32m    501\u001b[39m         arrays = [x.copy() \u001b[38;5;28;01mif\u001b[39;00m \u001b[38;5;28mhasattr\u001b[39m(x, \u001b[33m\"\u001b[39m\u001b[33mdtype\u001b[39m\u001b[33m\"\u001b[39m) \u001b[38;5;28;01melse\u001b[39;00m x \u001b[38;5;28;01mfor\u001b[39;00m x \u001b[38;5;129;01min\u001b[39;00m arrays]\n\u001b[32m--> \u001b[39m\u001b[32m503\u001b[39m \u001b[38;5;28;01mreturn\u001b[39;00m \u001b[43marrays_to_mgr\u001b[49m\u001b[43m(\u001b[49m\u001b[43marrays\u001b[49m\u001b[43m,\u001b[49m\u001b[43m \u001b[49m\u001b[43mcolumns\u001b[49m\u001b[43m,\u001b[49m\u001b[43m \u001b[49m\u001b[43mindex\u001b[49m\u001b[43m,\u001b[49m\u001b[43m \u001b[49m\u001b[43mdtype\u001b[49m\u001b[43m=\u001b[49m\u001b[43mdtype\u001b[49m\u001b[43m,\u001b[49m\u001b[43m \u001b[49m\u001b[43mtyp\u001b[49m\u001b[43m=\u001b[49m\u001b[43mtyp\u001b[49m\u001b[43m,\u001b[49m\u001b[43m \u001b[49m\u001b[43mconsolidate\u001b[49m\u001b[43m=\u001b[49m\u001b[43mcopy\u001b[49m\u001b[43m)\u001b[49m\n",
            "\u001b[36mFile \u001b[39m\u001b[32mc:\\Users\\nikak\\AppData\\Local\\Programs\\Python\\Python311\\Lib\\site-packages\\pandas\\core\\internals\\construction.py:152\u001b[39m, in \u001b[36marrays_to_mgr\u001b[39m\u001b[34m(arrays, columns, index, dtype, verify_integrity, typ, consolidate)\u001b[39m\n\u001b[32m    149\u001b[39m axes = [columns, index]\n\u001b[32m    151\u001b[39m \u001b[38;5;28;01mif\u001b[39;00m typ == \u001b[33m\"\u001b[39m\u001b[33mblock\u001b[39m\u001b[33m\"\u001b[39m:\n\u001b[32m--> \u001b[39m\u001b[32m152\u001b[39m     \u001b[38;5;28;01mreturn\u001b[39;00m \u001b[43mcreate_block_manager_from_column_arrays\u001b[49m\u001b[43m(\u001b[49m\n\u001b[32m    153\u001b[39m \u001b[43m        \u001b[49m\u001b[43marrays\u001b[49m\u001b[43m,\u001b[49m\u001b[43m \u001b[49m\u001b[43maxes\u001b[49m\u001b[43m,\u001b[49m\u001b[43m \u001b[49m\u001b[43mconsolidate\u001b[49m\u001b[43m=\u001b[49m\u001b[43mconsolidate\u001b[49m\u001b[43m,\u001b[49m\u001b[43m \u001b[49m\u001b[43mrefs\u001b[49m\u001b[43m=\u001b[49m\u001b[43mrefs\u001b[49m\n\u001b[32m    154\u001b[39m \u001b[43m    \u001b[49m\u001b[43m)\u001b[49m\n\u001b[32m    155\u001b[39m \u001b[38;5;28;01melif\u001b[39;00m typ == \u001b[33m\"\u001b[39m\u001b[33marray\u001b[39m\u001b[33m\"\u001b[39m:\n\u001b[32m    156\u001b[39m     \u001b[38;5;28;01mreturn\u001b[39;00m ArrayManager(arrays, [index, columns])\n",
            "\u001b[36mFile \u001b[39m\u001b[32mc:\\Users\\nikak\\AppData\\Local\\Programs\\Python\\Python311\\Lib\\site-packages\\pandas\\core\\internals\\managers.py:2144\u001b[39m, in \u001b[36mcreate_block_manager_from_column_arrays\u001b[39m\u001b[34m(arrays, axes, consolidate, refs)\u001b[39m\n\u001b[32m   2142\u001b[39m     raise_construction_error(\u001b[38;5;28mlen\u001b[39m(arrays), arrays[\u001b[32m0\u001b[39m].shape, axes, e)\n\u001b[32m   2143\u001b[39m \u001b[38;5;28;01mif\u001b[39;00m consolidate:\n\u001b[32m-> \u001b[39m\u001b[32m2144\u001b[39m     \u001b[43mmgr\u001b[49m\u001b[43m.\u001b[49m\u001b[43m_consolidate_inplace\u001b[49m\u001b[43m(\u001b[49m\u001b[43m)\u001b[49m\n\u001b[32m   2145\u001b[39m \u001b[38;5;28;01mreturn\u001b[39;00m mgr\n",
            "\u001b[36mFile \u001b[39m\u001b[32mc:\\Users\\nikak\\AppData\\Local\\Programs\\Python\\Python311\\Lib\\site-packages\\pandas\\core\\internals\\managers.py:1788\u001b[39m, in \u001b[36mBlockManager._consolidate_inplace\u001b[39m\u001b[34m(self)\u001b[39m\n\u001b[32m   1782\u001b[39m \u001b[38;5;28;01mdef\u001b[39;00m\u001b[38;5;250m \u001b[39m\u001b[34m_consolidate_inplace\u001b[39m(\u001b[38;5;28mself\u001b[39m) -> \u001b[38;5;28;01mNone\u001b[39;00m:\n\u001b[32m   1783\u001b[39m     \u001b[38;5;66;03m# In general, _consolidate_inplace should only be called via\u001b[39;00m\n\u001b[32m   1784\u001b[39m     \u001b[38;5;66;03m#  DataFrame._consolidate_inplace, otherwise we will fail to invalidate\u001b[39;00m\n\u001b[32m   1785\u001b[39m     \u001b[38;5;66;03m#  the DataFrame's _item_cache. The exception is for newly-created\u001b[39;00m\n\u001b[32m   1786\u001b[39m     \u001b[38;5;66;03m#  BlockManager objects not yet attached to a DataFrame.\u001b[39;00m\n\u001b[32m   1787\u001b[39m     \u001b[38;5;28;01mif\u001b[39;00m \u001b[38;5;129;01mnot\u001b[39;00m \u001b[38;5;28mself\u001b[39m.is_consolidated():\n\u001b[32m-> \u001b[39m\u001b[32m1788\u001b[39m         \u001b[38;5;28mself\u001b[39m.blocks = \u001b[43m_consolidate\u001b[49m\u001b[43m(\u001b[49m\u001b[38;5;28;43mself\u001b[39;49m\u001b[43m.\u001b[49m\u001b[43mblocks\u001b[49m\u001b[43m)\u001b[49m\n\u001b[32m   1789\u001b[39m         \u001b[38;5;28mself\u001b[39m._is_consolidated = \u001b[38;5;28;01mTrue\u001b[39;00m\n\u001b[32m   1790\u001b[39m         \u001b[38;5;28mself\u001b[39m._known_consolidated = \u001b[38;5;28;01mTrue\u001b[39;00m\n",
            "\u001b[36mFile \u001b[39m\u001b[32mc:\\Users\\nikak\\AppData\\Local\\Programs\\Python\\Python311\\Lib\\site-packages\\pandas\\core\\internals\\managers.py:2269\u001b[39m, in \u001b[36m_consolidate\u001b[39m\u001b[34m(blocks)\u001b[39m\n\u001b[32m   2267\u001b[39m new_blocks: \u001b[38;5;28mlist\u001b[39m[Block] = []\n\u001b[32m   2268\u001b[39m \u001b[38;5;28;01mfor\u001b[39;00m (_can_consolidate, dtype), group_blocks \u001b[38;5;129;01min\u001b[39;00m grouper:\n\u001b[32m-> \u001b[39m\u001b[32m2269\u001b[39m     merged_blocks, _ = \u001b[43m_merge_blocks\u001b[49m\u001b[43m(\u001b[49m\n\u001b[32m   2270\u001b[39m \u001b[43m        \u001b[49m\u001b[38;5;28;43mlist\u001b[39;49m\u001b[43m(\u001b[49m\u001b[43mgroup_blocks\u001b[49m\u001b[43m)\u001b[49m\u001b[43m,\u001b[49m\u001b[43m \u001b[49m\u001b[43mdtype\u001b[49m\u001b[43m=\u001b[49m\u001b[43mdtype\u001b[49m\u001b[43m,\u001b[49m\u001b[43m \u001b[49m\u001b[43mcan_consolidate\u001b[49m\u001b[43m=\u001b[49m\u001b[43m_can_consolidate\u001b[49m\n\u001b[32m   2271\u001b[39m \u001b[43m    \u001b[49m\u001b[43m)\u001b[49m\n\u001b[32m   2272\u001b[39m     new_blocks = extend_blocks(merged_blocks, new_blocks)\n\u001b[32m   2273\u001b[39m \u001b[38;5;28;01mreturn\u001b[39;00m \u001b[38;5;28mtuple\u001b[39m(new_blocks)\n",
            "\u001b[36mFile \u001b[39m\u001b[32mc:\\Users\\nikak\\AppData\\Local\\Programs\\Python\\Python311\\Lib\\site-packages\\pandas\\core\\internals\\managers.py:2294\u001b[39m, in \u001b[36m_merge_blocks\u001b[39m\u001b[34m(blocks, dtype, can_consolidate)\u001b[39m\n\u001b[32m   2287\u001b[39m new_values: ArrayLike\n\u001b[32m   2289\u001b[39m \u001b[38;5;28;01mif\u001b[39;00m \u001b[38;5;28misinstance\u001b[39m(blocks[\u001b[32m0\u001b[39m].dtype, np.dtype):\n\u001b[32m   2290\u001b[39m     \u001b[38;5;66;03m# error: List comprehension has incompatible type List[Union[ndarray,\u001b[39;00m\n\u001b[32m   2291\u001b[39m     \u001b[38;5;66;03m# ExtensionArray]]; expected List[Union[complex, generic,\u001b[39;00m\n\u001b[32m   2292\u001b[39m     \u001b[38;5;66;03m# Sequence[Union[int, float, complex, str, bytes, generic]],\u001b[39;00m\n\u001b[32m   2293\u001b[39m     \u001b[38;5;66;03m# Sequence[Sequence[Any]], SupportsArray]]\u001b[39;00m\n\u001b[32m-> \u001b[39m\u001b[32m2294\u001b[39m     new_values = \u001b[43mnp\u001b[49m\u001b[43m.\u001b[49m\u001b[43mvstack\u001b[49m\u001b[43m(\u001b[49m\u001b[43m[\u001b[49m\u001b[43mb\u001b[49m\u001b[43m.\u001b[49m\u001b[43mvalues\u001b[49m\u001b[43m \u001b[49m\u001b[38;5;28;43;01mfor\u001b[39;49;00m\u001b[43m \u001b[49m\u001b[43mb\u001b[49m\u001b[43m \u001b[49m\u001b[38;5;129;43;01min\u001b[39;49;00m\u001b[43m \u001b[49m\u001b[43mblocks\u001b[49m\u001b[43m]\u001b[49m\u001b[43m)\u001b[49m  \u001b[38;5;66;03m# type: ignore[misc]\u001b[39;00m\n\u001b[32m   2295\u001b[39m \u001b[38;5;28;01melse\u001b[39;00m:\n\u001b[32m   2296\u001b[39m     bvals = [blk.values \u001b[38;5;28;01mfor\u001b[39;00m blk \u001b[38;5;129;01min\u001b[39;00m blocks]\n",
            "\u001b[36mFile \u001b[39m\u001b[32mc:\\Users\\nikak\\AppData\\Local\\Programs\\Python\\Python311\\Lib\\site-packages\\numpy\\core\\shape_base.py:289\u001b[39m, in \u001b[36mvstack\u001b[39m\u001b[34m(tup, dtype, casting)\u001b[39m\n\u001b[32m    287\u001b[39m \u001b[38;5;28;01mif\u001b[39;00m \u001b[38;5;129;01mnot\u001b[39;00m \u001b[38;5;28misinstance\u001b[39m(arrs, \u001b[38;5;28mlist\u001b[39m):\n\u001b[32m    288\u001b[39m     arrs = [arrs]\n\u001b[32m--> \u001b[39m\u001b[32m289\u001b[39m \u001b[38;5;28;01mreturn\u001b[39;00m \u001b[43m_nx\u001b[49m\u001b[43m.\u001b[49m\u001b[43mconcatenate\u001b[49m\u001b[43m(\u001b[49m\u001b[43marrs\u001b[49m\u001b[43m,\u001b[49m\u001b[43m \u001b[49m\u001b[32;43m0\u001b[39;49m\u001b[43m,\u001b[49m\u001b[43m \u001b[49m\u001b[43mdtype\u001b[49m\u001b[43m=\u001b[49m\u001b[43mdtype\u001b[49m\u001b[43m,\u001b[49m\u001b[43m \u001b[49m\u001b[43mcasting\u001b[49m\u001b[43m=\u001b[49m\u001b[43mcasting\u001b[49m\u001b[43m)\u001b[49m\n",
            "\u001b[31mMemoryError\u001b[39m: Unable to allocate 1.26 GiB for an array with shape (34, 4958347) and data type float64"
          ]
        }
      ],
      "source": [
        "df = pd.read_csv(train_imputed)  # full labeled data\n",
        "features = pd.read_csv(feats_train)  # your features\n",
        "\n",
        "\n",
        "# df = df.merge(features, on=['srch_id', 'prop_id', 'srch_destination_id'], how='left')\n",
        "\n",
        "def label_func(row):\n",
        "    if row['booking_bool'] == 1:\n",
        "        return 5\n",
        "    elif row['click_bool'] == 1:\n",
        "        return 1\n",
        "    else:\n",
        "        return 0\n",
        "\n",
        "df['label'] = df.apply(label_func, axis=1)\n",
        "\n",
        "# group_sizes = df.groupby('srch_id').size().to_list()\n",
        "\n",
        "drop_cols = ['click_bool', 'booking_bool', 'date_time', 'gross_bookings_usd', 'position']\n",
        "X = df.drop(columns=[*drop_cols, 'label'], errors='ignore')\n",
        "y = df['label']\n",
        "\n",
        "df = df.merge(features, on=['srch_id', 'prop_id', 'srch_destination_id'], how='left') #MAYBE REMOVE scrh_destination_id or comment this one and uncomment the one above\n",
        "group_sizes = df.groupby('srch_id').size().to_list()\n"
      ]
    },
    {
      "cell_type": "code",
      "execution_count": 7,
      "id": "e46fdad1",
      "metadata": {
        "id": "e46fdad1"
      },
      "outputs": [],
      "source": [
        "X_train, X_test, y_train, y_test = train_test_split(X, y, test_size=0.2, random_state=42)\n"
      ]
    },
    {
      "cell_type": "code",
      "execution_count": 9,
      "id": "4416777b",
      "metadata": {
        "colab": {
          "base_uri": "https://localhost:8080/"
        },
        "id": "4416777b",
        "outputId": "fd056901-cc71-4bf6-b223-b5a0a1663206"
      },
      "outputs": [
        {
          "name": "stderr",
          "output_type": "stream",
          "text": [
            "[I 2025-05-15 23:58:40,474] A new study created in memory with name: no-name-9be8ddf4-2883-4b03-b06c-183e7b5a3c4c\n",
            "[I 2025-05-15 23:58:42,181] Trial 0 finished with value: 0.1239684385644996 and parameters: {'eta': 0.1628147837821737, 'max_depth': 8, 'min_child_weight': 6, 'gamma': 4.792870619247334, 'subsample': 0.9799037348113369, 'colsample_bytree': 0.9497803654880639}. Best is trial 0 with value: 0.1239684385644996.\n",
            "[I 2025-05-15 23:58:47,453] Trial 1 finished with value: 0.17248657095396647 and parameters: {'eta': 0.10606831451991225, 'max_depth': 4, 'min_child_weight': 5, 'gamma': 2.5149498258314362, 'subsample': 0.8941212665403985, 'colsample_bytree': 0.6529411906198936}. Best is trial 1 with value: 0.17248657095396647.\n",
            "[I 2025-05-15 23:58:50,491] Trial 2 finished with value: 0.16295271314997598 and parameters: {'eta': 0.041926498103437904, 'max_depth': 8, 'min_child_weight': 7, 'gamma': 1.4414204573058853, 'subsample': 0.8900724252324879, 'colsample_bytree': 0.6618341283529696}. Best is trial 1 with value: 0.17248657095396647.\n",
            "[I 2025-05-15 23:58:52,710] Trial 3 finished with value: 0.1239684385644996 and parameters: {'eta': 0.1924842978172592, 'max_depth': 10, 'min_child_weight': 9, 'gamma': 2.890837826435466, 'subsample': 0.6801756245853232, 'colsample_bytree': 0.8005788482000991}. Best is trial 1 with value: 0.17248657095396647.\n",
            "[I 2025-05-15 23:58:54,519] Trial 4 finished with value: 0.21205479277270187 and parameters: {'eta': 0.0586853609135873, 'max_depth': 9, 'min_child_weight': 1, 'gamma': 2.7523295393371887, 'subsample': 0.8375397471821413, 'colsample_bytree': 0.7503026863791118}. Best is trial 4 with value: 0.21205479277270187.\n",
            "[I 2025-05-15 23:59:01,727] Trial 5 finished with value: 0.20071929252627327 and parameters: {'eta': 0.04402796099822131, 'max_depth': 9, 'min_child_weight': 2, 'gamma': 2.9047979494807734, 'subsample': 0.5038685887844094, 'colsample_bytree': 0.5941308342747091}. Best is trial 4 with value: 0.21205479277270187.\n",
            "[I 2025-05-15 23:59:05,259] Trial 6 finished with value: 0.20129874249108445 and parameters: {'eta': 0.10567498323737717, 'max_depth': 3, 'min_child_weight': 6, 'gamma': 1.5619019575415587, 'subsample': 0.8401981769013702, 'colsample_bytree': 0.8586407749165081}. Best is trial 4 with value: 0.21205479277270187.\n",
            "[I 2025-05-15 23:59:06,711] Trial 7 finished with value: 0.1239684385644996 and parameters: {'eta': 0.19266044092819226, 'max_depth': 3, 'min_child_weight': 8, 'gamma': 0.5097058061416654, 'subsample': 0.576203826766388, 'colsample_bytree': 0.9141295851921885}. Best is trial 4 with value: 0.21205479277270187.\n",
            "[I 2025-05-15 23:59:08,061] Trial 8 finished with value: 0.1239684385644996 and parameters: {'eta': 0.03187424999705169, 'max_depth': 8, 'min_child_weight': 9, 'gamma': 4.418471325355244, 'subsample': 0.7518329874748989, 'colsample_bytree': 0.6012767545290356}. Best is trial 4 with value: 0.21205479277270187.\n",
            "[I 2025-05-15 23:59:14,326] Trial 9 finished with value: 0.18448006106194562 and parameters: {'eta': 0.14876589590915107, 'max_depth': 6, 'min_child_weight': 1, 'gamma': 1.4188661864174568, 'subsample': 0.732320451228474, 'colsample_bytree': 0.9569197471059383}. Best is trial 4 with value: 0.21205479277270187.\n",
            "[I 2025-05-15 23:59:16,188] Trial 10 finished with value: 0.1239684385644996 and parameters: {'eta': 0.29084258600683077, 'max_depth': 6, 'min_child_weight': 3, 'gamma': 3.7429393057087914, 'subsample': 0.99305221651336, 'colsample_bytree': 0.7454254439548428}. Best is trial 4 with value: 0.21205479277270187.\n",
            "[I 2025-05-15 23:59:18,667] Trial 11 finished with value: 0.19281745709825915 and parameters: {'eta': 0.09375275198625851, 'max_depth': 5, 'min_child_weight': 4, 'gamma': 1.1374951276691663, 'subsample': 0.825005315131457, 'colsample_bytree': 0.8252237060090019}. Best is trial 4 with value: 0.21205479277270187.\n",
            "[I 2025-05-15 23:59:21,630] Trial 12 finished with value: 0.19796333026843768 and parameters: {'eta': 0.10169337415193463, 'max_depth': 3, 'min_child_weight': 5, 'gamma': 1.9639261902843341, 'subsample': 0.8208169926378741, 'colsample_bytree': 0.8513550294870875}. Best is trial 4 with value: 0.21205479277270187.\n",
            "[I 2025-05-15 23:59:23,916] Trial 13 finished with value: 0.20123375750730524 and parameters: {'eta': 0.07980885470494797, 'max_depth': 10, 'min_child_weight': 1, 'gamma': 0.14360508673354033, 'subsample': 0.8665219364065972, 'colsample_bytree': 0.7300939256113231}. Best is trial 4 with value: 0.21205479277270187.\n",
            "[I 2025-05-15 23:59:25,025] Trial 14 finished with value: 0.1239684385644996 and parameters: {'eta': 0.011092169244361967, 'max_depth': 7, 'min_child_weight': 7, 'gamma': 3.6763971114505427, 'subsample': 0.743165188174091, 'colsample_bytree': 0.5006930365820831}. Best is trial 4 with value: 0.21205479277270187.\n",
            "[I 2025-05-15 23:59:29,757] Trial 15 finished with value: 0.19078240118302198 and parameters: {'eta': 0.14176544098579902, 'max_depth': 5, 'min_child_weight': 3, 'gamma': 2.080523465788162, 'subsample': 0.6496545519651808, 'colsample_bytree': 0.8789671899903996}. Best is trial 4 with value: 0.21205479277270187.\n",
            "[I 2025-05-15 23:59:30,864] Trial 16 finished with value: 0.1239684385644996 and parameters: {'eta': 0.2642317729308524, 'max_depth': 7, 'min_child_weight': 10, 'gamma': 3.6956159608577135, 'subsample': 0.9316695695816485, 'colsample_bytree': 0.7828270921480094}. Best is trial 4 with value: 0.21205479277270187.\n",
            "[I 2025-05-15 23:59:32,587] Trial 17 finished with value: 0.19864978319272222 and parameters: {'eta': 0.06639058308579135, 'max_depth': 9, 'min_child_weight': 6, 'gamma': 0.7885741368692233, 'subsample': 0.8293288041505038, 'colsample_bytree': 0.7191610399214169}. Best is trial 4 with value: 0.21205479277270187.\n",
            "[I 2025-05-15 23:59:36,290] Trial 18 finished with value: 0.1817677271762134 and parameters: {'eta': 0.12609221129588538, 'max_depth': 4, 'min_child_weight': 4, 'gamma': 1.9471966766720343, 'subsample': 0.7943204563344777, 'colsample_bytree': 0.9947123082771118}. Best is trial 4 with value: 0.21205479277270187.\n",
            "[I 2025-05-15 23:59:38,076] Trial 19 finished with value: 0.20703195454105816 and parameters: {'eta': 0.18758624129679136, 'max_depth': 9, 'min_child_weight': 3, 'gamma': 2.7491172011752347, 'subsample': 0.9361389655316675, 'colsample_bytree': 0.8723651739063978}. Best is trial 4 with value: 0.21205479277270187.\n",
            "[I 2025-05-15 23:59:41,618] Trial 20 finished with value: 0.1239684385644996 and parameters: {'eta': 0.22016567853648827, 'max_depth': 9, 'min_child_weight': 2, 'gamma': 3.0567931456919, 'subsample': 0.9392627582640687, 'colsample_bytree': 0.6852142698985574}. Best is trial 4 with value: 0.21205479277270187.\n",
            "[I 2025-05-15 23:59:43,305] Trial 21 finished with value: 0.19420999758014545 and parameters: {'eta': 0.1777453346344302, 'max_depth': 10, 'min_child_weight': 2, 'gamma': 2.5050490189597325, 'subsample': 0.9067499695633827, 'colsample_bytree': 0.8816920044821005}. Best is trial 4 with value: 0.21205479277270187.\n",
            "[I 2025-05-15 23:59:44,426] Trial 22 finished with value: 0.1239684385644996 and parameters: {'eta': 0.2318565025832709, 'max_depth': 9, 'min_child_weight': 4, 'gamma': 3.2629198768355794, 'subsample': 0.8618236380468371, 'colsample_bytree': 0.7812785414853463}. Best is trial 4 with value: 0.21205479277270187.\n",
            "[I 2025-05-15 23:59:46,754] Trial 23 finished with value: 0.2067391291236865 and parameters: {'eta': 0.12748134537051872, 'max_depth': 7, 'min_child_weight': 1, 'gamma': 2.2081789580383204, 'subsample': 0.7932359936082369, 'colsample_bytree': 0.8435898622888816}. Best is trial 4 with value: 0.21205479277270187.\n",
            "[I 2025-05-15 23:59:49,944] Trial 24 finished with value: 0.20737875662285152 and parameters: {'eta': 0.2209550980262006, 'max_depth': 8, 'min_child_weight': 1, 'gamma': 2.230393445215959, 'subsample': 0.7751784764237126, 'colsample_bytree': 0.826397743821756}. Best is trial 4 with value: 0.21205479277270187.\n",
            "[I 2025-05-15 23:59:51,398] Trial 25 finished with value: 0.1239684385644996 and parameters: {'eta': 0.22329360877010998, 'max_depth': 8, 'min_child_weight': 3, 'gamma': 3.3574803658090033, 'subsample': 0.6760719687390929, 'colsample_bytree': 0.9156353468910781}. Best is trial 4 with value: 0.21205479277270187.\n",
            "[I 2025-05-15 23:59:56,169] Trial 26 finished with value: 0.20445848454047635 and parameters: {'eta': 0.24991333899864349, 'max_depth': 9, 'min_child_weight': 2, 'gamma': 2.574641600353208, 'subsample': 0.9530347705941776, 'colsample_bytree': 0.804622552945142}. Best is trial 4 with value: 0.21205479277270187.\n",
            "[I 2025-05-15 23:59:57,524] Trial 27 finished with value: 0.1239684385644996 and parameters: {'eta': 0.20154333112935618, 'max_depth': 8, 'min_child_weight': 1, 'gamma': 4.1476813055086, 'subsample': 0.7622891108969617, 'colsample_bytree': 0.7661984393171708}. Best is trial 4 with value: 0.21205479277270187.\n",
            "[I 2025-05-15 23:59:59,820] Trial 28 finished with value: 0.2024259888609424 and parameters: {'eta': 0.2806217752402968, 'max_depth': 10, 'min_child_weight': 3, 'gamma': 1.7461939432328557, 'subsample': 0.7000633113553014, 'colsample_bytree': 0.7047783583101644}. Best is trial 4 with value: 0.21205479277270187.\n",
            "[I 2025-05-16 00:00:02,093] Trial 29 finished with value: 0.20400478929954105 and parameters: {'eta': 0.1600245673462075, 'max_depth': 8, 'min_child_weight': 2, 'gamma': 2.737107581089794, 'subsample': 0.9633552609657923, 'colsample_bytree': 0.9050069910980222}. Best is trial 4 with value: 0.21205479277270187.\n"
          ]
        }
      ],
      "source": [
        "def objective(trial):\n",
        "    params = {\n",
        "        \"objective\": \"rank:pairwise\",\n",
        "        \"eval_metric\": \"ndcg\",\n",
        "        \"tree_method\": \"hist\",\n",
        "        \"booster\": \"gbtree\",\n",
        "        \"eta\": trial.suggest_float(\"eta\", 0.01, 0.3),\n",
        "        \"max_depth\": trial.suggest_int(\"max_depth\", 3, 10),\n",
        "        \"min_child_weight\": trial.suggest_int(\"min_child_weight\", 1, 10),\n",
        "        \"gamma\": trial.suggest_float(\"gamma\", 0, 5),\n",
        "        \"subsample\": trial.suggest_float(\"subsample\", 0.5, 1.0),\n",
        "        \"colsample_bytree\": trial.suggest_float(\"colsample_bytree\", 0.5, 1.0)\n",
        "    }\n",
        "\n",
        "    dtrain = xgb.DMatrix(X_train, label=y_train)\n",
        "    dtest = xgb.DMatrix(X_test, label=y_test)\n",
        "\n",
        "    model = xgb.train(params, dtrain, num_boost_round=300, evals=[(dtest, \"test\")], early_stopping_rounds=50, verbose_eval=False)\n",
        "\n",
        "    srch_ids_test = X_test['srch_id']\n",
        "    group_test = srch_ids_test.value_counts().sort_index().to_list()\n",
        "    split_preds = np.split(model.predict(dtest), np.cumsum(group_test)[:-1])\n",
        "    split_true = np.split(y_test.to_numpy(), np.cumsum(group_test)[:-1])\n",
        "    ndcgs = [ndcg_score([yt], [yp], k=5) for yt, yp in zip(split_true, split_preds) if len(yt) >= 5]\n",
        "    return np.mean(ndcgs)\n",
        "\n",
        "study = optuna.create_study(direction=\"maximize\")\n",
        "study.optimize(objective, n_trials=30)\n"
      ]
    },
    {
      "cell_type": "code",
      "execution_count": 10,
      "id": "9d5f914f",
      "metadata": {
        "colab": {
          "base_uri": "https://localhost:8080/"
        },
        "id": "9d5f914f",
        "outputId": "12b34d68-83a1-49e1-c05a-9477fd9a2633"
      },
      "outputs": [
        {
          "name": "stdout",
          "output_type": "stream",
          "text": [
            "[0]\ttest-ndcg:0.11172\n",
            "[1]\ttest-ndcg:0.22037\n",
            "[2]\ttest-ndcg:0.02509\n",
            "[3]\ttest-ndcg:0.02509\n",
            "[4]\ttest-ndcg:0.02509\n",
            "[5]\ttest-ndcg:0.02509\n",
            "[6]\ttest-ndcg:0.02509\n",
            "[7]\ttest-ndcg:0.02509\n",
            "[8]\ttest-ndcg:0.02747\n",
            "[9]\ttest-ndcg:0.05453\n",
            "[10]\ttest-ndcg:0.14970\n",
            "[11]\ttest-ndcg:0.06208\n",
            "[12]\ttest-ndcg:0.10230\n",
            "[13]\ttest-ndcg:0.10909\n",
            "[14]\ttest-ndcg:0.19451\n",
            "[15]\ttest-ndcg:0.19451\n",
            "[16]\ttest-ndcg:0.19451\n",
            "[17]\ttest-ndcg:0.19451\n",
            "[18]\ttest-ndcg:0.19451\n",
            "[19]\ttest-ndcg:0.19628\n",
            "[20]\ttest-ndcg:0.19628\n",
            "[21]\ttest-ndcg:0.19628\n",
            "[22]\ttest-ndcg:0.19628\n",
            "[23]\ttest-ndcg:0.19628\n",
            "[24]\ttest-ndcg:0.19628\n",
            "[25]\ttest-ndcg:0.19628\n",
            "[26]\ttest-ndcg:0.19628\n",
            "[27]\ttest-ndcg:0.19628\n",
            "[28]\ttest-ndcg:0.19628\n",
            "[29]\ttest-ndcg:0.19628\n",
            "[30]\ttest-ndcg:0.19628\n",
            "Final model trained with best parameters from Optuna.\n"
          ]
        }
      ],
      "source": [
        "best_params = study.best_params\n",
        "best_params.update({\n",
        "    \"objective\": \"rank:pairwise\",\n",
        "    \"eval_metric\": \"ndcg\",\n",
        "    \"tree_method\": \"hist\",\n",
        "    \"booster\": \"gbtree\"\n",
        "})\n",
        "\n",
        "dtrain_final = xgb.DMatrix(X_train, label=y_train)\n",
        "dtest_final = xgb.DMatrix(X_test, label=y_test)\n",
        "\n",
        "model = xgb.train(best_params, dtrain_final, num_boost_round=300, evals=[(dtest_final, \"test\")], early_stopping_rounds=30)\n",
        "\n",
        "print(\"Final model trained with best parameters from Optuna.\")\n"
      ]
    },
    {
      "cell_type": "code",
      "execution_count": 11,
      "id": "2be6f83d",
      "metadata": {
        "colab": {
          "base_uri": "https://localhost:8080/"
        },
        "id": "2be6f83d",
        "outputId": "6097d308-cf70-4ce4-91b2-aeff8beb233b"
      },
      "outputs": [
        {
          "name": "stdout",
          "output_type": "stream",
          "text": [
            "Model saved to 'xgboost_ranker_model_final.json'\n"
          ]
        }
      ],
      "source": [
        "model.save_model(\"xgboost_ranker_model_final.json\")\n",
        "print(\"Model saved to 'xgboost_ranker_model_final.json'\")\n"
      ]
    }
  ],
  "metadata": {
    "colab": {
      "provenance": []
    },
    "kernelspec": {
      "display_name": "Python 3",
      "language": "python",
      "name": "python3"
    },
    "language_info": {
      "codemirror_mode": {
        "name": "ipython",
        "version": 3
      },
      "file_extension": ".py",
      "mimetype": "text/x-python",
      "name": "python",
      "nbconvert_exporter": "python",
      "pygments_lexer": "ipython3",
      "version": "3.11.9"
    }
  },
  "nbformat": 4,
  "nbformat_minor": 5
}
